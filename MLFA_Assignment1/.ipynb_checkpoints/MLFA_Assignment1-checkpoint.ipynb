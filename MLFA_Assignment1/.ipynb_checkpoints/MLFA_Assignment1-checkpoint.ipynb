{
 "cells": [
  {
   "cell_type": "code",
   "execution_count": 19,
   "id": "5c7f6cc3",
   "metadata": {},
   "outputs": [],
   "source": [
    "import numpy as np\n",
    "import matplotlib as plt\n",
    "import pandas as pd"
   ]
  },
  {
   "cell_type": "code",
   "execution_count": 20,
   "id": "965f200f",
   "metadata": {},
   "outputs": [],
   "source": [
    "data = pd.read_csv(\"sobar-72.csv\")"
   ]
  },
  {
   "cell_type": "code",
   "execution_count": 21,
   "id": "ecff60da",
   "metadata": {},
   "outputs": [],
   "source": [
    "data = data.sample(frac=1).reset_index(drop=True)"
   ]
  },
  {
   "cell_type": "code",
   "execution_count": 22,
   "id": "fa82696b",
   "metadata": {},
   "outputs": [],
   "source": [
    "for column in data.columns:\n",
    "    if(column!=\"ca_cervix\"):\n",
    "        data[column] = (data[column]-data[column].mean()) / data[column].std()    "
   ]
  },
  {
   "cell_type": "code",
   "execution_count": 23,
   "id": "6ae26081",
   "metadata": {},
   "outputs": [],
   "source": [
    "train = data[:-15]\n",
    "test = data[-15:]"
   ]
  },
  {
   "cell_type": "code",
   "execution_count": 24,
   "id": "b9458f3b",
   "metadata": {},
   "outputs": [],
   "source": [
    "def accuracy(X,Y):\n",
    "    t = len(X)\n",
    "    erro = 0\n",
    "    for i in range(len(X)):\n",
    "        erro += (X[i]-Y[i])**2\n",
    "    return ((t-erro)/t)*100"
   ]
  },
  {
   "cell_type": "code",
   "execution_count": 25,
   "id": "5db1ecea",
   "metadata": {},
   "outputs": [],
   "source": [
    "train_y = np.array(train[\"ca_cervix\"])\n",
    "train_x = np.array(train.loc[:, train.columns != \"ca_cervix\"])"
   ]
  },
  {
   "cell_type": "code",
   "execution_count": 26,
   "id": "e73d7b44",
   "metadata": {},
   "outputs": [],
   "source": [
    "test_y = np.array(test[\"ca_cervix\"])\n",
    "test_x = np.array(test.loc[:, test.columns != \"ca_cervix\"])"
   ]
  },
  {
   "cell_type": "code",
   "execution_count": 27,
   "id": "dba549c2",
   "metadata": {},
   "outputs": [],
   "source": [
    "pred_y = np.arange(len(test_y))"
   ]
  },
  {
   "cell_type": "code",
   "execution_count": 10,
   "id": "2e7d70b6",
   "metadata": {},
   "outputs": [
    {
     "data": {
      "text/plain": [
       "array([1, 0, 0, 1, 0, 1, 0, 0, 0, 0, 0, 0, 1, 0, 1])"
      ]
     },
     "execution_count": 10,
     "metadata": {},
     "output_type": "execute_result"
    }
   ],
   "source": [
    "test_y"
   ]
  },
  {
   "cell_type": "code",
   "execution_count": 11,
   "id": "1f047384",
   "metadata": {},
   "outputs": [
    {
     "name": "stdout",
     "output_type": "stream",
     "text": [
      "accuracy for k= 1 is =  100.0 % \n",
      " [1 0 0 1 0 1 0 0 0 0 0 0 1 0 1] \n",
      " [1 0 0 1 0 1 0 0 0 0 0 0 1 0 1] \n",
      "\n",
      "accuracy for k= 3 is =  93.33333333333333 % \n",
      " [1 0 0 1 0 1 0 0 0 0 0 0 1 0 1] \n",
      " [1 0 0 1 0 1 0 0 0 0 0 0 0 0 1] \n",
      "\n",
      "accuracy for k= 5 is =  93.33333333333333 % \n",
      " [1 0 0 1 0 1 0 0 0 0 0 0 1 0 1] \n",
      " [0 0 0 1 0 1 0 0 0 0 0 0 1 0 1] \n",
      "\n"
     ]
    }
   ],
   "source": [
    "for k in range(1,6,2):\n",
    "    for i in range(len(test)):\n",
    "        a=test_x[i]\n",
    "        dist = np.sum((train_x - a)**2,axis = 1)\n",
    "        score = np.sum(train_y[np.argpartition(dist, k)[:k]])\n",
    "        if(score>k/2):\n",
    "            pred_y[i]=1\n",
    "        else:\n",
    "            pred_y[i]=0\n",
    "    print(\"accuracy for k=\",k,\"is = \",accuracy(pred_y,test_y),\"% \\n\",test_y,\"\\n\",pred_y,\"\\n\")"
   ]
  },
  {
   "cell_type": "code",
   "execution_count": 28,
   "id": "4bae12ae",
   "metadata": {},
   "outputs": [
    {
     "ename": "IndexError",
     "evalue": "index 3 is out of bounds for axis 0 with size 2",
     "output_type": "error",
     "traceback": [
      "\u001b[0;31m---------------------------------------------------------------------------\u001b[0m",
      "\u001b[0;31mIndexError\u001b[0m                                Traceback (most recent call last)",
      "\u001b[0;32m/var/folders/yy/95rx0nm12jqc32p5svcxxv7h0000gn/T/ipykernel_24436/979634457.py\u001b[0m in \u001b[0;36m<module>\u001b[0;34m\u001b[0m\n\u001b[1;32m     11\u001b[0m     \u001b[0ma\u001b[0m\u001b[0;34m=\u001b[0m\u001b[0mtrain_x\u001b[0m\u001b[0;34m[\u001b[0m\u001b[0mi\u001b[0m\u001b[0;34m]\u001b[0m\u001b[0;34m\u001b[0m\u001b[0;34m\u001b[0m\u001b[0m\n\u001b[1;32m     12\u001b[0m     \u001b[0mdist\u001b[0m \u001b[0;34m=\u001b[0m \u001b[0mnp\u001b[0m\u001b[0;34m.\u001b[0m\u001b[0msum\u001b[0m\u001b[0;34m(\u001b[0m\u001b[0;34m(\u001b[0m\u001b[0mcondensed\u001b[0m \u001b[0;34m-\u001b[0m \u001b[0ma\u001b[0m\u001b[0;34m)\u001b[0m\u001b[0;34m**\u001b[0m\u001b[0;36m2\u001b[0m\u001b[0;34m,\u001b[0m\u001b[0maxis\u001b[0m \u001b[0;34m=\u001b[0m \u001b[0;36m0\u001b[0m\u001b[0;34m)\u001b[0m\u001b[0;34m\u001b[0m\u001b[0;34m\u001b[0m\u001b[0m\n\u001b[0;32m---> 13\u001b[0;31m     \u001b[0mscore\u001b[0m \u001b[0;34m=\u001b[0m \u001b[0mcondensed_y\u001b[0m\u001b[0;34m[\u001b[0m\u001b[0mdist\u001b[0m\u001b[0;34m.\u001b[0m\u001b[0margmin\u001b[0m\u001b[0;34m(\u001b[0m\u001b[0;34m)\u001b[0m\u001b[0;34m]\u001b[0m\u001b[0;34m\u001b[0m\u001b[0;34m\u001b[0m\u001b[0m\n\u001b[0m\u001b[1;32m     14\u001b[0m     \u001b[0mpred\u001b[0m\u001b[0;34m=\u001b[0m\u001b[0;36m0\u001b[0m\u001b[0;34m\u001b[0m\u001b[0;34m\u001b[0m\u001b[0m\n\u001b[1;32m     15\u001b[0m     \u001b[0;32mif\u001b[0m\u001b[0;34m(\u001b[0m\u001b[0mscore\u001b[0m\u001b[0;34m>\u001b[0m\u001b[0;36m0\u001b[0m\u001b[0;34m)\u001b[0m\u001b[0;34m:\u001b[0m\u001b[0;34m\u001b[0m\u001b[0;34m\u001b[0m\u001b[0m\n",
      "\u001b[0;31mIndexError\u001b[0m: index 3 is out of bounds for axis 0 with size 2"
     ]
    }
   ],
   "source": [
    "condensed = [train_x[0]]\n",
    "condensed_y = [train_y[0]]\n",
    "for i in range(len(train_x)):\n",
    "    if(train_y[i]!=train_y[0]):\n",
    "        break\n",
    "\n",
    "condensed = np.append(condensed,[train_x[i]],axis=0)\n",
    "condensed_y = np.append(condensed_y,[train_y[i]])\n",
    "k=1\n",
    "for i in range(len(train)):\n",
    "    a=train_x[i]\n",
    "    dist = np.sum((condensed - a)**2,axis = 0)\n",
    "    score = condensed_y[dist.argmin()]\n",
    "    pred=0\n",
    "    if(score>0):\n",
    "        pred=1\n",
    "    if(pred!=train_y[i]):\n",
    "        condensed = np.append(condensed,[train_x[i]],axis=0)\n",
    "        condensed_y = np.append(condensed_y,[train_y[i]])\n",
    "        i=0\n",
    "condensed"
   ]
  },
  {
   "cell_type": "code",
   "execution_count": 16,
   "id": "22e43220",
   "metadata": {},
   "outputs": [],
   "source": [
    "pred_y2 = np.arange(len(test_y))"
   ]
  },
  {
   "cell_type": "code",
   "execution_count": 17,
   "id": "dbea18cf",
   "metadata": {},
   "outputs": [
    {
     "ename": "IndexError",
     "evalue": "index 3 is out of bounds for axis 0 with size 3",
     "output_type": "error",
     "traceback": [
      "\u001b[0;31m---------------------------------------------------------------------------\u001b[0m",
      "\u001b[0;31mIndexError\u001b[0m                                Traceback (most recent call last)",
      "\u001b[0;32m/var/folders/yy/95rx0nm12jqc32p5svcxxv7h0000gn/T/ipykernel_24436/2932739234.py\u001b[0m in \u001b[0;36m<module>\u001b[0;34m\u001b[0m\n\u001b[1;32m      2\u001b[0m     \u001b[0ma\u001b[0m\u001b[0;34m=\u001b[0m\u001b[0mtest_x\u001b[0m\u001b[0;34m[\u001b[0m\u001b[0mi\u001b[0m\u001b[0;34m]\u001b[0m\u001b[0;34m\u001b[0m\u001b[0;34m\u001b[0m\u001b[0m\n\u001b[1;32m      3\u001b[0m     \u001b[0mdist\u001b[0m \u001b[0;34m=\u001b[0m \u001b[0mnp\u001b[0m\u001b[0;34m.\u001b[0m\u001b[0msum\u001b[0m\u001b[0;34m(\u001b[0m\u001b[0;34m(\u001b[0m\u001b[0mcondensed\u001b[0m \u001b[0;34m-\u001b[0m \u001b[0ma\u001b[0m\u001b[0;34m)\u001b[0m\u001b[0;34m**\u001b[0m\u001b[0;36m2\u001b[0m\u001b[0;34m,\u001b[0m\u001b[0maxis\u001b[0m \u001b[0;34m=\u001b[0m \u001b[0;36m0\u001b[0m\u001b[0;34m)\u001b[0m\u001b[0;34m\u001b[0m\u001b[0;34m\u001b[0m\u001b[0m\n\u001b[0;32m----> 4\u001b[0;31m     \u001b[0mscore\u001b[0m \u001b[0;34m=\u001b[0m \u001b[0mnp\u001b[0m\u001b[0;34m.\u001b[0m\u001b[0msum\u001b[0m\u001b[0;34m(\u001b[0m\u001b[0mcondensed_y\u001b[0m\u001b[0;34m[\u001b[0m\u001b[0mnp\u001b[0m\u001b[0;34m.\u001b[0m\u001b[0margpartition\u001b[0m\u001b[0;34m(\u001b[0m\u001b[0mdist\u001b[0m\u001b[0;34m,\u001b[0m\u001b[0;36m1\u001b[0m\u001b[0;34m)\u001b[0m\u001b[0;34m[\u001b[0m\u001b[0;34m:\u001b[0m\u001b[0;36m1\u001b[0m\u001b[0;34m]\u001b[0m\u001b[0;34m]\u001b[0m\u001b[0;34m)\u001b[0m\u001b[0;34m\u001b[0m\u001b[0;34m\u001b[0m\u001b[0m\n\u001b[0m\u001b[1;32m      5\u001b[0m     \u001b[0mpred_y2\u001b[0m\u001b[0;34m[\u001b[0m\u001b[0mi\u001b[0m\u001b[0;34m]\u001b[0m\u001b[0;34m=\u001b[0m\u001b[0;36m0\u001b[0m\u001b[0;34m\u001b[0m\u001b[0;34m\u001b[0m\u001b[0m\n\u001b[1;32m      6\u001b[0m     \u001b[0;32mif\u001b[0m\u001b[0;34m(\u001b[0m\u001b[0mscore\u001b[0m\u001b[0;34m>\u001b[0m\u001b[0mk\u001b[0m\u001b[0;34m/\u001b[0m\u001b[0;36m2\u001b[0m\u001b[0;34m)\u001b[0m\u001b[0;34m:\u001b[0m\u001b[0;34m\u001b[0m\u001b[0;34m\u001b[0m\u001b[0m\n",
      "\u001b[0;31mIndexError\u001b[0m: index 3 is out of bounds for axis 0 with size 3"
     ]
    }
   ],
   "source": [
    "for i in range(len(test)):\n",
    "    a=test_x[i]\n",
    "    dist = np.sum((condensed - a)**2,axis = 0)\n",
    "    score = np.sum(condensed_y[np.argpartition(dist,1)[:1]])\n",
    "    pred_y2[i]=0\n",
    "    if(score>k/2):\n",
    "        pred_y2[i]=1"
   ]
  },
  {
   "cell_type": "code",
   "execution_count": 18,
   "id": "25adf10a",
   "metadata": {},
   "outputs": [
    {
     "data": {
      "text/plain": [
       "-6240.0"
      ]
     },
     "execution_count": 18,
     "metadata": {},
     "output_type": "execute_result"
    }
   ],
   "source": [
    "accuracy(pred_y2,test_y)"
   ]
  },
  {
   "cell_type": "code",
   "execution_count": 29,
   "id": "99412908",
   "metadata": {},
   "outputs": [
    {
     "data": {
      "text/plain": [
       "3"
      ]
     },
     "execution_count": 29,
     "metadata": {},
     "output_type": "execute_result"
    }
   ],
   "source": [
    "dist.argmin()"
   ]
  },
  {
   "cell_type": "code",
   "execution_count": null,
   "id": "ec7ace22",
   "metadata": {},
   "outputs": [],
   "source": []
  }
 ],
 "metadata": {
  "kernelspec": {
   "display_name": "Python 3 (ipykernel)",
   "language": "python",
   "name": "python3"
  },
  "language_info": {
   "codemirror_mode": {
    "name": "ipython",
    "version": 3
   },
   "file_extension": ".py",
   "mimetype": "text/x-python",
   "name": "python",
   "nbconvert_exporter": "python",
   "pygments_lexer": "ipython3",
   "version": "3.7.11"
  }
 },
 "nbformat": 4,
 "nbformat_minor": 5
}
