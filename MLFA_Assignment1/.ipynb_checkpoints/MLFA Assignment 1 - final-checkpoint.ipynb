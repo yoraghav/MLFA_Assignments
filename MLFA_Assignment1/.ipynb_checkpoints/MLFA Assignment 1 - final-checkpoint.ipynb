{
 "cells": [
  {
   "cell_type": "code",
   "execution_count": 1,
   "id": "db29de1a",
   "metadata": {},
   "outputs": [],
   "source": [
    "import numpy as np\n",
    "import pandas as pd\n",
    "import matplotlib.pyplot as plt"
   ]
  },
  {
   "cell_type": "markdown",
   "id": "59f430f0",
   "metadata": {},
   "source": [
    "# Extracting Data"
   ]
  },
  {
   "cell_type": "code",
   "execution_count": 2,
   "id": "0f92ac25",
   "metadata": {},
   "outputs": [
    {
     "name": "stdout",
     "output_type": "stream",
     "text": [
      "[[10 13 12 ... 11  8  1]\n",
      " [10 11 11 ...  4  4  1]\n",
      " [10 15  3 ...  3 15  1]\n",
      " ...\n",
      " [10 15 15 ... 13 11  0]\n",
      " [10  9  8 ... 13 10  0]\n",
      " [10 10  5 ... 15 15  0]]\n"
     ]
    }
   ],
   "source": [
    "data = pd.read_csv('sobar-72.csv')\n",
    "data.tail()\n",
    "train_knn = data.iloc[:-15, :]\n",
    "test_knn = data.iloc[-15:, :]\n",
    "\n",
    "dataset = np.array(data)\n",
    "train = dataset[:-15]\n",
    "test = dataset[-15:]\n",
    "train = np.array(train)\n",
    "test = np.array(test)\n",
    "\n",
    "print(train)"
   ]
  },
  {
   "cell_type": "markdown",
   "id": "942cc7fe",
   "metadata": {},
   "source": [
    "# Important Functions"
   ]
  },
  {
   "cell_type": "code",
   "execution_count": 3,
   "id": "5bb61a54",
   "metadata": {},
   "outputs": [],
   "source": [
    "from math import sqrt\n",
    "\n",
    "def euclidean_dis(v1, v2):\n",
    "    sum = 0\n",
    "    for i in range(len(v1)-1):\n",
    "        sum += (v1[i] - v2[i])**2\n",
    "    return sqrt(sum)\n",
    "\n",
    "def find_neighbours(point, training_set, k):\n",
    "    distances = []\n",
    "    for i in range(len(training_set)):\n",
    "        dis = euclidean_dis(point, training_set[i])\n",
    "        distances.append([dis, i])\n",
    "    distances.sort()\n",
    "    #sorted(distances, key=lambda x:x[0])\n",
    "    \n",
    "    knn = []\n",
    "    for i in range(k):\n",
    "        knn.append(training_set[distances[i][1]])\n",
    "    \n",
    "    knn = np.array(knn)\n",
    "    return knn\n",
    "\n",
    "from statistics import mode\n",
    "def predict_label(neighbours):\n",
    "    labels = [neighbours[i][-1] for i in range(len(neighbours))]\n",
    "    return mode(labels)\n",
    "\n",
    "#print(find_neighbours(test[0], train, 5))"
   ]
  },
  {
   "cell_type": "markdown",
   "id": "77b0aa85",
   "metadata": {},
   "source": [
    "# Initializing Condensed Set"
   ]
  },
  {
   "cell_type": "code",
   "execution_count": 4,
   "id": "62e5c780",
   "metadata": {},
   "outputs": [
    {
     "data": {
      "text/plain": [
       "(55, 20)"
      ]
     },
     "execution_count": 4,
     "metadata": {},
     "output_type": "execute_result"
    }
   ],
   "source": [
    "number_of_rows = len(train)\n",
    "random_index = np.random.randint(0, number_of_rows)\n",
    "condensed_set = np.array([train[random_index]])\n",
    "train = np.delete(train, random_index, 0)\n",
    "number_of_rows -= 1\n",
    "\n",
    "random_index = np.random.randint(0, number_of_rows)\n",
    "random_data = train[random_index, :]\n",
    "train = np.delete(train, random_index, 0)\n",
    "number_of_rows -= 1\n",
    "\n",
    "train.shape"
   ]
  },
  {
   "cell_type": "markdown",
   "id": "08025a9a",
   "metadata": {},
   "source": [
    "# Iteratively preparing Condensed Set"
   ]
  },
  {
   "cell_type": "code",
   "execution_count": 5,
   "id": "01c734b3",
   "metadata": {},
   "outputs": [
    {
     "name": "stdout",
     "output_type": "stream",
     "text": [
      "1 0\n",
      "0 0\n",
      "0 1\n",
      "0 0\n",
      "0 1\n",
      "0 0\n",
      "0 1\n",
      "1 0\n",
      "1 1\n",
      "1 1\n",
      "0 0\n",
      "0 0\n",
      "1 1\n",
      "0 0\n",
      "0 0\n",
      "0 0\n",
      "0 1\n",
      "1 0\n",
      "0 0\n",
      "1 0\n",
      "0 0\n",
      "1 1\n",
      "0 0\n",
      "1 1\n",
      "0 0\n",
      "0 0\n",
      "0 0\n",
      "0 0\n",
      "1 1\n",
      "0 1\n",
      "1 0\n",
      "0 0\n",
      "0 0\n",
      "1 1\n",
      "0 0\n",
      "1 1\n",
      "0 0\n",
      "0 1\n",
      "1 1\n",
      "0 0\n",
      "0 0\n",
      "0 0\n",
      "1 0\n",
      "1 1\n",
      "0 0\n",
      "0 0\n",
      "1 1\n",
      "0 0\n",
      "0 1\n",
      "0 0\n",
      "0 0\n",
      "1 1\n",
      "0 1\n",
      "0 0\n",
      "0 0\n"
     ]
    }
   ],
   "source": [
    "while number_of_rows:\n",
    "    neigh = find_neighbours(random_data, condensed_set, 1)\n",
    "    print(neigh[0][-1], random_data[-1])\n",
    "    if random_data[-1] != neigh[0][-1]:\n",
    "        condensed_set = np.vstack((condensed_set, random_data))\n",
    "    random_index = np.random.randint(0, number_of_rows)\n",
    "    random_data = train[random_index, :]\n",
    "    train = np.delete(train, random_index, 0)\n",
    "    number_of_rows -= 1\n"
   ]
  },
  {
   "cell_type": "markdown",
   "id": "a0fb37c8",
   "metadata": {},
   "source": [
    "# Printing Condensed Set"
   ]
  },
  {
   "cell_type": "code",
   "execution_count": 6,
   "id": "b9f13904",
   "metadata": {},
   "outputs": [
    {
     "name": "stdout",
     "output_type": "stream",
     "text": [
      "[[10 12  7  5 10  8  8  1  8 10  4  6  3  3  2  4  4  3  5  1]\n",
      " [10 14 10  9 15  4  5  2  5  7  3 10  7  4  6  7  5  9 12  0]\n",
      " [10 15  4  6 14  6 10  5  3  7  2  7 13  3  3 15  3  3  5  1]\n",
      " [ 8 12  9 10 10  5 10  5  5  5  2 10  9 13  2  9  8  7 12  1]\n",
      " [ 8 11  7  8 10  7  8  1  5  3  2 15  5  3  6 12  5  4  7  1]\n",
      " [10 11 11 10 14  5  8  1  4  3  4 15 11 13  9 13 13 12 13  0]\n",
      " [10 15  7  2 15  6 10  1  3  5  2  9 15 13 10 15 13 15 15  1]\n",
      " [10 15  9  3 15  8 10  1  3  5  6 10 15 13 10 15 15 15 15  0]\n",
      " [10 13 12  2 15  7 10  5 15 10  2 15 12 11  7  6 10  9 12  0]\n",
      " [ 9 12 14  9 15 10  9  3  6  3  2 15 15  3 10 15 11  3 11  1]\n",
      " [10  3  5  2  9  6 10  1  3  9  6 11 10  9  9 14  6 10 10  0]\n",
      " [10 15 12 10 15  6 10  1  3  3  2  4  3  3  2 15 13  6 11  1]\n",
      " [10 10 12  5  7  6  6  4  5 10  4 11  9 11  8 11 11 10 11  0]\n",
      " [10 15  3  2 14  8 10  1  4  7  2  7  3  3  6 11  3  3 15  1]\n",
      " [10 12 12  8 10  8  6  2  7  6  2 12 11  9  8 12 10 10  9  1]]\n"
     ]
    }
   ],
   "source": [
    "print(condensed_set)"
   ]
  },
  {
   "cell_type": "markdown",
   "id": "3d1ed0c9",
   "metadata": {},
   "source": [
    "# Using Condensed set to Classify Test Set"
   ]
  },
  {
   "cell_type": "code",
   "execution_count": 7,
   "id": "d70bb635",
   "metadata": {},
   "outputs": [
    {
     "name": "stdout",
     "output_type": "stream",
     "text": [
      "[1, 1, 1, 1, 0, 1, 1, 0, 0, 0, 0, 0, 0, 0, 0]\n",
      "[0, 0, 0, 0, 0, 0, 0, 0, 0, 0, 0, 0, 0, 0, 0]\n",
      "Accuracy from CNN:  60.0 %\n"
     ]
    }
   ],
   "source": [
    "predictions = []\n",
    "actual_labels = [test[i][-1] for i in range(len(test))]\n",
    "for i in range(len(test)):\n",
    "    nn5 = find_neighbours(test[i], condensed_set, 5)\n",
    "    predictions.append(predict_label(nn5))\n",
    "\n",
    "print(predictions)\n",
    "print(actual_labels)\n",
    "correctly_classified = 0\n",
    "for i in range(len(test)):\n",
    "    if predictions[i] == actual_labels[i]:\n",
    "        correctly_classified += 1\n",
    "print('Accuracy from CNN: ', (correctly_classified/float(len(test)))*100, '%')"
   ]
  },
  {
   "cell_type": "markdown",
   "id": "3c7a75c0",
   "metadata": {},
   "source": [
    "# Implementing k Nearest Neighbours"
   ]
  },
  {
   "cell_type": "code",
   "execution_count": 8,
   "id": "a86018b4",
   "metadata": {},
   "outputs": [
    {
     "data": {
      "text/plain": [
       "KNeighborsClassifier()"
      ]
     },
     "execution_count": 8,
     "metadata": {},
     "output_type": "execute_result"
    }
   ],
   "source": [
    "from sklearn.neighbors import KNeighborsClassifier\n",
    "neigh = KNeighborsClassifier(n_neighbors=5)\n",
    "\n",
    "train_knn = np.array(train_knn)\n",
    "x=train_knn[:,:-1]\n",
    "y=train_knn[:,-1]\n",
    "neigh.fit(x, y)"
   ]
  },
  {
   "cell_type": "code",
   "execution_count": 9,
   "id": "fd9994ff",
   "metadata": {},
   "outputs": [
    {
     "name": "stdout",
     "output_type": "stream",
     "text": [
      "[1 1 1 1 0 1 0 0 0 0 0 0 0 0 0]\n",
      "Accuracy from k-NN:  60.0 %\n"
     ]
    }
   ],
   "source": [
    "prediction_knn = neigh.predict(test[:, :-1])\n",
    "print(prediction_knn)\n",
    "correctly_classified_knn = 0\n",
    "for i in range(len(test)):\n",
    "    if predictions[i] == actual_labels[i]:\n",
    "        correctly_classified_knn += 1\n",
    "print('Accuracy from k-NN: ', (correctly_classified_knn/float(len(test)))*100, '%')"
   ]
  },
  {
   "cell_type": "code",
   "execution_count": null,
   "id": "3d275d1a",
   "metadata": {},
   "outputs": [],
   "source": []
  },
  {
   "cell_type": "code",
   "execution_count": null,
   "id": "165d392d",
   "metadata": {},
   "outputs": [],
   "source": []
  }
 ],
 "metadata": {
  "kernelspec": {
   "display_name": "Python 3 (ipykernel)",
   "language": "python",
   "name": "python3"
  },
  "language_info": {
   "codemirror_mode": {
    "name": "ipython",
    "version": 3
   },
   "file_extension": ".py",
   "mimetype": "text/x-python",
   "name": "python",
   "nbconvert_exporter": "python",
   "pygments_lexer": "ipython3",
   "version": "3.7.11"
  }
 },
 "nbformat": 4,
 "nbformat_minor": 5
}
