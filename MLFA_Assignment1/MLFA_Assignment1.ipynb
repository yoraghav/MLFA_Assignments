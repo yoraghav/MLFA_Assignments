{
 "cells": [
  {
   "cell_type": "markdown",
   "id": "d82ef2ec",
   "metadata": {},
   "source": [
    "# ASSIGNMENT 1 \n",
    "\n",
    "## Submitted by - \n",
    "    Raghav Aggarwal 20EC10064 (Team Leader)\n",
    "    Rudransh Gupta 20EE30036\n",
    "    Parv Jain 20IE10048\n",
    "    Adarsh Jha 20CH30003\n",
    "    Darpan Aswal 20EC10026\n",
    "    Harsh Gupta 20CH10021\n",
    "## Importing Libraries"
   ]
  },
  {
   "cell_type": "code",
   "execution_count": 1,
   "id": "afab7d7e",
   "metadata": {},
   "outputs": [],
   "source": [
    "import numpy as np\n",
    "import matplotlib as plt\n",
    "import pandas as pd\n",
    "\n",
    "with open('Results.txt', 'w') as f:\n",
    "        f.writelines(\"ASSIGNMENT 1 \\n\\nSubmitted by :- \\n Raghav Aggarwal 20EC10064 (Team Leader)\\n Rudransh Gupta 20EE30036\\n Parv Jain 20IE10048\\n Adarsh Jha 20CH30003\\n Darpan Aswal 20EC10026\\n Harsh Gupta 20CH10021\")\n",
    "        f.writelines(\"\\n\\nNote : The dataset gets shuffled on each run, hence the accuracy might change with each run.\\n\\n\")\n",
    "        f.writelines(\"Results : \\n\\n\")"
   ]
  },
  {
   "cell_type": "markdown",
   "id": "4851f2a5",
   "metadata": {},
   "source": [
    "## Reading Data and shuffling it "
   ]
  },
  {
   "cell_type": "code",
   "execution_count": 2,
   "id": "a2b4e4e3",
   "metadata": {},
   "outputs": [],
   "source": [
    "data = pd.read_csv(\"sobar-72.csv\")"
   ]
  },
  {
   "cell_type": "code",
   "execution_count": 3,
   "id": "47345f4e",
   "metadata": {},
   "outputs": [],
   "source": [
    "data = data.sample(frac=1).reset_index(drop=True)"
   ]
  },
  {
   "cell_type": "markdown",
   "id": "e838cb92",
   "metadata": {},
   "source": [
    "## Normalising Dataset"
   ]
  },
  {
   "cell_type": "code",
   "execution_count": 4,
   "id": "c86407fd",
   "metadata": {},
   "outputs": [],
   "source": [
    "for column in data.columns:\n",
    "    if(column!=\"ca_cervix\"):\n",
    "        data[column] = (data[column]-data[column].mean()) / data[column].std()    "
   ]
  },
  {
   "cell_type": "markdown",
   "id": "7713881b",
   "metadata": {},
   "source": [
    "## Splitting the Data into training and testing datasets"
   ]
  },
  {
   "cell_type": "code",
   "execution_count": 5,
   "id": "6f018c1f",
   "metadata": {},
   "outputs": [],
   "source": [
    "train = data[:-15]\n",
    "test = data[-15:]"
   ]
  },
  {
   "cell_type": "code",
   "execution_count": 6,
   "id": "74a9a314",
   "metadata": {},
   "outputs": [],
   "source": [
    "train_y = np.array(train[\"ca_cervix\"])\n",
    "train_x = np.array(train.loc[:, train.columns != \"ca_cervix\"])"
   ]
  },
  {
   "cell_type": "code",
   "execution_count": 7,
   "id": "4578fe1a",
   "metadata": {},
   "outputs": [],
   "source": [
    "test_y = np.array(test[\"ca_cervix\"])\n",
    "test_x = np.array(test.loc[:, test.columns != \"ca_cervix\"])"
   ]
  },
  {
   "cell_type": "code",
   "execution_count": 8,
   "id": "9bbbd035",
   "metadata": {},
   "outputs": [],
   "source": [
    "pred_y = np.arange(len(test_y))"
   ]
  },
  {
   "cell_type": "markdown",
   "id": "7ea280f3",
   "metadata": {},
   "source": [
    "## Defining the accuracy function"
   ]
  },
  {
   "cell_type": "code",
   "execution_count": 9,
   "id": "553828d1",
   "metadata": {},
   "outputs": [],
   "source": [
    "def accuracy(X,Y):\n",
    "    t = len(X)\n",
    "    erro = 0\n",
    "    for i in range(len(X)):\n",
    "        erro += (X[i]-Y[i])**2\n",
    "    return ((t-erro)/t)*100"
   ]
  },
  {
   "cell_type": "markdown",
   "id": "76dac605",
   "metadata": {},
   "source": [
    "## Using KNN for k=1,3,5 (odd numbers)"
   ]
  },
  {
   "cell_type": "code",
   "execution_count": 10,
   "id": "a1571a9b",
   "metadata": {},
   "outputs": [
    {
     "name": "stdout",
     "output_type": "stream",
     "text": [
      "accuracy for k= 1 is =  86.66666666666667 % \n",
      "\n",
      "accuracy for k= 3 is =  86.66666666666667 % \n",
      "\n",
      "accuracy for k= 5 is =  80.0 % \n",
      "\n"
     ]
    }
   ],
   "source": [
    "for k in range(1,6,2):\n",
    "    for i in range(len(test)):\n",
    "        a=test_x[i]\n",
    "        dist = np.sum((train_x - a)**2,axis = 1)\n",
    "        score = np.sum(train_y[np.argpartition(dist, k)[:k]])\n",
    "        if(score>k/2):\n",
    "            pred_y[i]=1\n",
    "        else:\n",
    "            pred_y[i]=0\n",
    "    print(\"accuracy for k=\",k,\"is = \",accuracy(pred_y,test_y),\"% \\n\")\n",
    "    with open('Results.txt', 'a') as f:\n",
    "        f.writelines(\"accuracy using KNN for k=\"+str(k)+\" is = \"+str(accuracy(pred_y,test_y))+\"% \\n\\n\")"
   ]
  },
  {
   "cell_type": "markdown",
   "id": "d3ea5ac2",
   "metadata": {},
   "source": [
    "## Using CNN for k=1"
   ]
  },
  {
   "cell_type": "markdown",
   "id": "18a10886",
   "metadata": {},
   "source": [
    "Training Model on training set"
   ]
  },
  {
   "cell_type": "code",
   "execution_count": 11,
   "id": "bc12ec69",
   "metadata": {},
   "outputs": [],
   "source": [
    "condensed = [train_x[0]]\n",
    "condensed_y = [train_y[0]]\n",
    "for i in range(len(train_x)):\n",
    "    if(train_y[i]!=train_y[0]):\n",
    "        break\n",
    "\n",
    "condensed = np.append(condensed,[train_x[i]],axis=0)\n",
    "condensed_y = np.append(condensed_y,[train_y[i]])\n",
    "k=1\n",
    "for i in range(len(train)):\n",
    "    a=train_x[i]\n",
    "    dist = np.sum((condensed - a)**2,axis = 1)\n",
    "    score = condensed_y[dist.argmin()]\n",
    "    pred=0\n",
    "    if(score>0):\n",
    "        pred=1\n",
    "    if(pred!=train_y[i]):\n",
    "        condensed = np.append(condensed,[train_x[i]],axis=0)\n",
    "        condensed_y = np.append(condensed_y,[train_y[i]])\n",
    "        i=0"
   ]
  },
  {
   "cell_type": "code",
   "execution_count": 13,
   "id": "45274343",
   "metadata": {},
   "outputs": [
    {
     "data": {
      "text/plain": [
       "array([0, 1, 0, 1, 1, 0, 1, 0, 0, 0, 1, 1, 1])"
      ]
     },
     "execution_count": 13,
     "metadata": {},
     "output_type": "execute_result"
    }
   ],
   "source": [
    "train_y"
   ]
  },
  {
   "cell_type": "markdown",
   "id": "ae72a7cb",
   "metadata": {},
   "source": [
    "Applying it on the test values for prediction"
   ]
  },
  {
   "cell_type": "code",
   "execution_count": 12,
   "id": "77a88697",
   "metadata": {},
   "outputs": [
    {
     "name": "stdout",
     "output_type": "stream",
     "text": [
      "Accuracy using CNN is =  86.66666666666667 %\n",
      "\n"
     ]
    }
   ],
   "source": [
    "pred_y2 = np.arange(len(test_y))\n",
    "\n",
    "for i in range(len(test)):\n",
    "    a=test_x[i]\n",
    "    dist = np.sum((condensed - a)**2,axis = 1)\n",
    "    score = np.sum(condensed_y[np.argpartition(dist,1)[:1]])\n",
    "    pred_y2[i]=0\n",
    "    if(score>k/2):\n",
    "        pred_y2[i]=1\n",
    "        \n",
    "print(\"Accuracy using CNN is = \",accuracy(pred_y2,test_y),\"%\\n\")\n",
    "with open('Results.txt', 'a') as f:\n",
    "        f.writelines(\"accuracy using CNN for k=1 is = \"+str(accuracy(pred_y2,test_y))+\"% \\n\\n\")"
   ]
  },
  {
   "cell_type": "code",
   "execution_count": null,
   "id": "04e5421b",
   "metadata": {},
   "outputs": [],
   "source": []
  },
  {
   "cell_type": "code",
   "execution_count": null,
   "id": "8592c90b",
   "metadata": {},
   "outputs": [],
   "source": []
  }
 ],
 "metadata": {
  "kernelspec": {
   "display_name": "Python 3 (ipykernel)",
   "language": "python",
   "name": "python3"
  },
  "language_info": {
   "codemirror_mode": {
    "name": "ipython",
    "version": 3
   },
   "file_extension": ".py",
   "mimetype": "text/x-python",
   "name": "python",
   "nbconvert_exporter": "python",
   "pygments_lexer": "ipython3",
   "version": "3.7.11"
  }
 },
 "nbformat": 4,
 "nbformat_minor": 5
}
