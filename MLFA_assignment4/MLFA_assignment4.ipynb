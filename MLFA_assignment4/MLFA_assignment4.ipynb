{
 "cells": [
  {
   "cell_type": "markdown",
   "id": "aa6c4891",
   "metadata": {},
   "source": [
    "# ASSIGNMENT 2\n",
    "\n",
    "## Submitted by - \n",
    "    Raghav Aggarwal 20EC10064 (Team Leader)\n",
    "    Darpan Aswal 20EC10026\n",
    "    Rudransh Gupta 20EE30036\n",
    "    Parv Jain 20IE10048\n",
    "    Adarsh Jha 20CH30003\n",
    "    Harsh Gupta 20CH10021\n",
    "## Importing Libraries ans Dataset"
   ]
  },
  {
   "cell_type": "code",
   "execution_count": 30,
   "id": "20509f6e-f2bb-405d-9f05-f932e04ba60b",
   "metadata": {
    "id": "20509f6e-f2bb-405d-9f05-f932e04ba60b"
   },
   "outputs": [],
   "source": [
    "import scipy.io\n",
    "import numpy as np\n",
    "from sklearn.model_selection import train_test_split\n",
    "from sklearn import tree\n",
    "from sklearn import metrics\n",
    "import tensorflow as tf\n",
    "from tensorflow import keras\n",
    "from tensorflow.keras.datasets import mnist\n",
    "from sklearn.ensemble import RandomForestClassifier\n",
    "from sklearn.model_selection import KFold"
   ]
  },
  {
   "cell_type": "code",
   "execution_count": 2,
   "id": "b55f222f-bce8-4f66-835e-245bd84b705c",
   "metadata": {
    "id": "b55f222f-bce8-4f66-835e-245bd84b705c"
   },
   "outputs": [],
   "source": [
    "mat = scipy.io.loadmat('annualrainfall.mat')"
   ]
  },
  {
   "cell_type": "code",
   "execution_count": 3,
   "id": "da7c14c4-45c1-4c2d-93e7-71a234e9452c",
   "metadata": {
    "id": "da7c14c4-45c1-4c2d-93e7-71a234e9452c"
   },
   "outputs": [],
   "source": [
    "dataset  = np.array( mat['XR'])"
   ]
  },
  {
   "cell_type": "markdown",
   "id": "a748b5c1",
   "metadata": {},
   "source": [
    "# Question-1 (Part-1)"
   ]
  },
  {
   "cell_type": "code",
   "execution_count": 4,
   "id": "e86ce921-0e63-43f5-814d-903d21c81317",
   "metadata": {
    "id": "e86ce921-0e63-43f5-814d-903d21c81317"
   },
   "outputs": [],
   "source": [
    "total  = dataset.sum(axis=0)\n",
    "m = np.mean(total)\n",
    "s = np.std(total)\n",
    "SUM = m+s\n",
    "DIFF = m-s"
   ]
  },
  {
   "cell_type": "code",
   "execution_count": 14,
   "id": "46ec6355-0f8d-4946-bfe2-c00f13c76ae1",
   "metadata": {
    "id": "46ec6355-0f8d-4946-bfe2-c00f13c76ae1",
    "outputId": "2f7a01f3-2304-4b0a-cd53-29e9ba856c1c"
   },
   "outputs": [],
   "source": [
    "label = ((total>SUM)*1 - (total<DIFF)*1)"
   ]
  },
  {
   "cell_type": "markdown",
   "id": "248e93ce-bd90-4bb6-95e2-e1ee5de8a332",
   "metadata": {
    "id": "248e93ce-bd90-4bb6-95e2-e1ee5de8a332"
   },
   "source": [
    "Training decision tree model :"
   ]
  },
  {
   "cell_type": "code",
   "execution_count": 18,
   "id": "addbda29-4fff-4674-a98a-28518ec05a40",
   "metadata": {
    "id": "addbda29-4fff-4674-a98a-28518ec05a40",
    "outputId": "0e6abf3c-5c12-4f57-8eb5-6cd3c5f2cf85"
   },
   "outputs": [
    {
     "name": "stdout",
     "output_type": "stream",
     "text": [
      "Accuracy: 0.55\n",
      "Accuracy: 0.5\n",
      "Accuracy: 0.75\n",
      "Accuracy: 0.45\n",
      "Accuracy: 0.6\n"
     ]
    }
   ],
   "source": [
    "kf = KFold()\n",
    "train_x = dataset[:,:100].T \n",
    "train_y = np.array(label[:100])\n",
    "test_x = dataset[:,100:].T\n",
    "y = np.array(label[100:])\n",
    "\n",
    "dtree = tree.DecisionTreeClassifier(max_depth=10)\n",
    "clfs = []\n",
    "accuracy = []\n",
    "for train_index, test_index in kf.split(train_x):\n",
    "   x_trainv, x_testv = train_x[train_index], train_x[test_index]\n",
    "   y_trainv, y_testv = train_y[train_index], train_y[test_index]\n",
    "   dtree = dtree.fit(x_trainv, y_trainv)\n",
    "   clfs.append(dtree)\n",
    "   y_predv = dtree.predict(x_testv)\n",
    "   accuracy.append(metrics.accuracy_score(y_testv, y_predv))\n",
    "   print(\"Accuracy:\",metrics.accuracy_score(y_testv, y_predv))"
   ]
  },
  {
   "cell_type": "markdown",
   "id": "255dfcb5-b18e-4671-8b64-8367babfc812",
   "metadata": {
    "id": "255dfcb5-b18e-4671-8b64-8367babfc812"
   },
   "source": [
    "Testing decision tree model : "
   ]
  },
  {
   "cell_type": "code",
   "execution_count": 22,
   "id": "68f67f99-234a-43a1-9fdd-a3dfa1e5a04f",
   "metadata": {
    "id": "68f67f99-234a-43a1-9fdd-a3dfa1e5a04f",
    "outputId": "f853f104-be01-459d-e330-51140fc1555f"
   },
   "outputs": [
    {
     "name": "stdout",
     "output_type": "stream",
     "text": [
      "Accuracy: 0.5555555555555556\n"
     ]
    }
   ],
   "source": [
    "maxa = accuracy[0]\n",
    "for i in range(len(accuracy)):\n",
    "    if maxa<accuracy[i]:\n",
    "        maxa = accuracy[i]\n",
    "        index = i\n",
    "clf = clfs[index]\n",
    "y_pred = dtree.predict(test_x)\n",
    "print(\"Accuracy:\",metrics.accuracy_score(y, y_pred))\n",
    "        "
   ]
  },
  {
   "cell_type": "markdown",
   "id": "811c2328-be02-47ae-9752-41a1bf005368",
   "metadata": {
    "id": "811c2328-be02-47ae-9752-41a1bf005368"
   },
   "source": [
    "Training Random forest model : "
   ]
  },
  {
   "cell_type": "code",
   "execution_count": 23,
   "id": "dfb16145-68af-4d20-895c-3fe8336745ce",
   "metadata": {
    "id": "dfb16145-68af-4d20-895c-3fe8336745ce",
    "outputId": "2ba902e7-4866-4333-9f77-23618a96deed"
   },
   "outputs": [
    {
     "name": "stdout",
     "output_type": "stream",
     "text": [
      "Accuracy: 0.6\n",
      "Accuracy: 0.6\n",
      "Accuracy: 0.7\n",
      "Accuracy: 0.65\n",
      "Accuracy: 0.8\n"
     ]
    }
   ],
   "source": [
    "for train_index, test_index in kf.split(train_x):\n",
    "    x_trainv, x_testv = train_x[train_index], train_x[test_index]\n",
    "    y_trainv, y_testv = train_y[train_index], train_y[test_index]\n",
    "    rf = RandomForestClassifier(max_depth=10)\n",
    "    rf.fit(x_trainv, y_trainv)\n",
    "    y_predv = rf.predict(x_testv)\n",
    "    accuracy.append(metrics.accuracy_score(y_testv, y_predv))\n",
    "    print(\"Accuracy:\",metrics.accuracy_score(y_testv, y_predv))"
   ]
  },
  {
   "cell_type": "markdown",
   "id": "46dbcd77-08bb-436e-8653-eff7756041de",
   "metadata": {
    "id": "46dbcd77-08bb-436e-8653-eff7756041de"
   },
   "source": [
    "Testing Random forest model"
   ]
  },
  {
   "cell_type": "code",
   "execution_count": 25,
   "id": "470a0e82-34eb-4ad4-b830-8f4fd199da4b",
   "metadata": {
    "id": "470a0e82-34eb-4ad4-b830-8f4fd199da4b",
    "outputId": "75219cce-6af2-4536-ab08-8836e743881b"
   },
   "outputs": [
    {
     "name": "stdout",
     "output_type": "stream",
     "text": [
      "Accuracy: 0.6666666666666666\n"
     ]
    }
   ],
   "source": [
    "y_pred = rf.predict(test_x)\n",
    "print(\"Accuracy:\",metrics.accuracy_score(y, y_pred))"
   ]
  },
  {
   "cell_type": "markdown",
   "id": "5984184d-38eb-413b-9250-e5bcc15d265a",
   "metadata": {
    "id": "5984184d-38eb-413b-9250-e5bcc15d265a"
   },
   "source": [
    "# Question 2: "
   ]
  },
  {
   "cell_type": "code",
   "execution_count": 26,
   "id": "bdcae263-b23d-4d0e-84ea-beb913880011",
   "metadata": {
    "id": "bdcae263-b23d-4d0e-84ea-beb913880011"
   },
   "outputs": [],
   "source": [
    "(xtrain2,ytrain2),(xtest2,ytest2)=mnist.load_data()\n",
    "x = np.concatenate((xtrain2, xtest2))\n",
    "y = np.concatenate((ytrain2, ytest2))\n",
    "x_train2, x_test2, y_train2, y_test2 = train_test_split(x, y, train_size=0.75)"
   ]
  },
  {
   "cell_type": "code",
   "execution_count": 27,
   "id": "acb57874-d8ba-481d-b821-7641c4d5fb7b",
   "metadata": {
    "id": "acb57874-d8ba-481d-b821-7641c4d5fb7b"
   },
   "outputs": [],
   "source": [
    "x_train2 = x_train2.reshape((-1, x_train2.shape[1]*x_train2.shape[2]))\n",
    "x_test2 = x_test2.reshape((-1, x_test2.shape[1]*x_test2.shape[2]))"
   ]
  },
  {
   "cell_type": "markdown",
   "id": "af01107e-d69b-4ce3-9d21-9d088b1aec58",
   "metadata": {
    "id": "af01107e-d69b-4ce3-9d21-9d088b1aec58"
   },
   "source": [
    "Decision Tree model : "
   ]
  },
  {
   "cell_type": "code",
   "execution_count": 28,
   "id": "beab3354-8c00-4c12-a019-0e139c38ed88",
   "metadata": {
    "id": "beab3354-8c00-4c12-a019-0e139c38ed88",
    "outputId": "1c3b348d-7a88-4b02-b2d8-0237a10b0317"
   },
   "outputs": [
    {
     "name": "stdout",
     "output_type": "stream",
     "text": [
      "Accuracy with max_depth  20  :  87.22857142857143  %\n",
      "Accuracy with max_depth  30  :  86.83428571428571  %\n",
      "Accuracy with max_depth  40  :  87.18857142857142  %\n",
      "Accuracy with max_depth  50  :  86.81142857142858  %\n"
     ]
    }
   ],
   "source": [
    "for x in range(20,60,10):\n",
    "    dtree = tree.DecisionTreeClassifier(max_depth = x)\n",
    "    dtree.fit(x_train2 , y_train2)\n",
    "    y_pred = dtree.predict(x_test2)\n",
    "    print(\"Accuracy with max_depth \",x,\" : \",metrics.accuracy_score(y_test2, y_pred)*100,\" %\")"
   ]
  },
  {
   "cell_type": "markdown",
   "id": "b58720ca-dd6e-4a76-a946-aae3432d3d3c",
   "metadata": {
    "id": "b58720ca-dd6e-4a76-a946-aae3432d3d3c"
   },
   "source": [
    "Random forest model : "
   ]
  },
  {
   "cell_type": "code",
   "execution_count": 29,
   "id": "71c7b633-ffd1-4c21-9271-231c88494b2c",
   "metadata": {
    "id": "71c7b633-ffd1-4c21-9271-231c88494b2c",
    "outputId": "ef3946fa-c46e-4aa6-fd6b-7006e605f17f"
   },
   "outputs": [
    {
     "name": "stdout",
     "output_type": "stream",
     "text": [
      "Accuracy with max_depth  20  :  96.85714285714285  %\n",
      "Accuracy with max_depth  30  :  96.7942857142857  %\n",
      "Accuracy with max_depth  40  :  96.8  %\n",
      "Accuracy with max_depth  50  :  96.76571428571428  %\n"
     ]
    }
   ],
   "source": [
    "for x in range(20,60,10):\n",
    "    rf = RandomForestClassifier(max_depth = 20)\n",
    "    rf.fit(x_train2, y_train2)\n",
    "    y_pred = rf.predict(x_test2)\n",
    "    print(\"Accuracy with max_depth \",x,\" : \",metrics.accuracy_score(y_test2, y_pred)*100,\" %\")"
   ]
  }
 ],
 "metadata": {
  "colab": {
   "name": "MLFA_assignment4.ipynb",
   "provenance": []
  },
  "kernelspec": {
   "display_name": "Python 3 (ipykernel)",
   "language": "python",
   "name": "python3"
  },
  "language_info": {
   "codemirror_mode": {
    "name": "ipython",
    "version": 3
   },
   "file_extension": ".py",
   "mimetype": "text/x-python",
   "name": "python",
   "nbconvert_exporter": "python",
   "pygments_lexer": "ipython3",
   "version": "3.7.11"
  }
 },
 "nbformat": 4,
 "nbformat_minor": 5
}
