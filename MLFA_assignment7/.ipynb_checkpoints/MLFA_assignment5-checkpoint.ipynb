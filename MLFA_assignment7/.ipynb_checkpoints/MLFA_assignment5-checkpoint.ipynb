{
 "cells": [
  {
   "cell_type": "markdown",
   "id": "aa6c4891",
   "metadata": {},
   "source": [
    "# ASSIGNMENT 5\n",
    "\n",
    "## Submitted by - \n",
    "    Raghav Aggarwal 20EC10064 (Team Leader)\n",
    "    Darpan Aswal 20EC10026\n",
    "    Rudransh Gupta 20EE30036\n",
    "    Parv Jain 20IE10048\n",
    "    Adarsh Jha 20CH30003\n",
    "    Harsh Gupta 20CH10021\n",
    "## Importing Libraries and Dataset"
   ]
  },
  {
   "cell_type": "code",
   "execution_count": 43,
   "id": "20509f6e-f2bb-405d-9f05-f932e04ba60b",
   "metadata": {
    "id": "20509f6e-f2bb-405d-9f05-f932e04ba60b"
   },
   "outputs": [],
   "source": [
    "import scipy.io\n",
    "import numpy as np\n",
    "import pandas as pd\n",
    "import matplotlib.pyplot as plt\n",
    "from sklearn.model_selection import train_test_split\n",
    "from sklearn import tree\n",
    "from sklearn import metrics\n",
    "import tensorflow as tf\n",
    "from tensorflow import keras\n",
    "from tensorflow.keras.datasets import mnist\n",
    "from sklearn.ensemble import RandomForestClassifier\n",
    "from sklearn.model_selection import KFold"
   ]
  },
  {
   "cell_type": "code",
   "execution_count": 21,
   "id": "b55f222f-bce8-4f66-835e-245bd84b705c",
   "metadata": {
    "id": "b55f222f-bce8-4f66-835e-245bd84b705c"
   },
   "outputs": [],
   "source": [
    "data = pd.read_csv('S_n_I_A_N_P_An_Io_noaa2.txt',delimiter= '\\s+', index_col=False, header = None)\n",
    "data.columns = {'SAM','nino', 'ISMR', 'AMO', 'NAO', 'PDO', 'At-nino', 'IOD'}"
   ]
  },
  {
   "cell_type": "code",
   "execution_count": 22,
   "id": "09131ee9",
   "metadata": {},
   "outputs": [
    {
     "data": {
      "text/html": [
       "<div>\n",
       "<style scoped>\n",
       "    .dataframe tbody tr th:only-of-type {\n",
       "        vertical-align: middle;\n",
       "    }\n",
       "\n",
       "    .dataframe tbody tr th {\n",
       "        vertical-align: top;\n",
       "    }\n",
       "\n",
       "    .dataframe thead th {\n",
       "        text-align: right;\n",
       "    }\n",
       "</style>\n",
       "<table border=\"1\" class=\"dataframe\">\n",
       "  <thead>\n",
       "    <tr style=\"text-align: right;\">\n",
       "      <th></th>\n",
       "      <th>nino</th>\n",
       "      <th>At-nino</th>\n",
       "      <th>NAO</th>\n",
       "      <th>ISMR</th>\n",
       "      <th>IOD</th>\n",
       "      <th>AMO</th>\n",
       "      <th>PDO</th>\n",
       "      <th>SAM</th>\n",
       "    </tr>\n",
       "  </thead>\n",
       "  <tbody>\n",
       "    <tr>\n",
       "      <th>0</th>\n",
       "      <td>0.599257</td>\n",
       "      <td>0.167651</td>\n",
       "      <td>10.24380</td>\n",
       "      <td>0.484010</td>\n",
       "      <td>0.000837</td>\n",
       "      <td>1.084100</td>\n",
       "      <td>0.560382</td>\n",
       "      <td>-0.295856</td>\n",
       "    </tr>\n",
       "    <tr>\n",
       "      <th>1</th>\n",
       "      <td>0.663879</td>\n",
       "      <td>0.212788</td>\n",
       "      <td>44.16110</td>\n",
       "      <td>0.603261</td>\n",
       "      <td>-0.317969</td>\n",
       "      <td>-1.465790</td>\n",
       "      <td>1.189540</td>\n",
       "      <td>-0.032952</td>\n",
       "    </tr>\n",
       "    <tr>\n",
       "      <th>2</th>\n",
       "      <td>-0.428772</td>\n",
       "      <td>0.336627</td>\n",
       "      <td>4.76807</td>\n",
       "      <td>0.609364</td>\n",
       "      <td>0.423296</td>\n",
       "      <td>0.114019</td>\n",
       "      <td>0.783738</td>\n",
       "      <td>-0.644708</td>\n",
       "    </tr>\n",
       "    <tr>\n",
       "      <th>3</th>\n",
       "      <td>0.513283</td>\n",
       "      <td>0.575112</td>\n",
       "      <td>-63.58770</td>\n",
       "      <td>0.219494</td>\n",
       "      <td>0.352545</td>\n",
       "      <td>1.807430</td>\n",
       "      <td>0.560395</td>\n",
       "      <td>-0.295477</td>\n",
       "    </tr>\n",
       "    <tr>\n",
       "      <th>4</th>\n",
       "      <td>-0.260801</td>\n",
       "      <td>0.647786</td>\n",
       "      <td>12.57720</td>\n",
       "      <td>0.040233</td>\n",
       "      <td>-0.528239</td>\n",
       "      <td>-0.108867</td>\n",
       "      <td>0.727379</td>\n",
       "      <td>0.044719</td>\n",
       "    </tr>\n",
       "    <tr>\n",
       "      <th>...</th>\n",
       "      <td>...</td>\n",
       "      <td>...</td>\n",
       "      <td>...</td>\n",
       "      <td>...</td>\n",
       "      <td>...</td>\n",
       "      <td>...</td>\n",
       "      <td>...</td>\n",
       "      <td>...</td>\n",
       "    </tr>\n",
       "    <tr>\n",
       "      <th>865</th>\n",
       "      <td>1.147740</td>\n",
       "      <td>1.296340</td>\n",
       "      <td>23.70850</td>\n",
       "      <td>0.161498</td>\n",
       "      <td>-0.385948</td>\n",
       "      <td>0.108982</td>\n",
       "      <td>-0.079691</td>\n",
       "      <td>0.297551</td>\n",
       "    </tr>\n",
       "    <tr>\n",
       "      <th>866</th>\n",
       "      <td>1.579510</td>\n",
       "      <td>1.572200</td>\n",
       "      <td>-41.18450</td>\n",
       "      <td>0.174294</td>\n",
       "      <td>-0.945931</td>\n",
       "      <td>2.158290</td>\n",
       "      <td>-0.189664</td>\n",
       "      <td>0.441171</td>\n",
       "    </tr>\n",
       "    <tr>\n",
       "      <th>867</th>\n",
       "      <td>0.923487</td>\n",
       "      <td>2.007070</td>\n",
       "      <td>-56.14030</td>\n",
       "      <td>0.277507</td>\n",
       "      <td>0.413170</td>\n",
       "      <td>0.031796</td>\n",
       "      <td>-0.188361</td>\n",
       "      <td>0.534373</td>\n",
       "    </tr>\n",
       "    <tr>\n",
       "      <th>868</th>\n",
       "      <td>0.207229</td>\n",
       "      <td>2.259830</td>\n",
       "      <td>-43.77540</td>\n",
       "      <td>0.492069</td>\n",
       "      <td>-0.579453</td>\n",
       "      <td>-1.432400</td>\n",
       "      <td>0.008520</td>\n",
       "      <td>0.771095</td>\n",
       "    </tr>\n",
       "    <tr>\n",
       "      <th>869</th>\n",
       "      <td>0.408653</td>\n",
       "      <td>2.480140</td>\n",
       "      <td>-40.42980</td>\n",
       "      <td>0.453323</td>\n",
       "      <td>-0.070764</td>\n",
       "      <td>-0.868589</td>\n",
       "      <td>0.237157</td>\n",
       "      <td>0.618231</td>\n",
       "    </tr>\n",
       "  </tbody>\n",
       "</table>\n",
       "<p>870 rows × 8 columns</p>\n",
       "</div>"
      ],
      "text/plain": [
       "         nino   At-nino       NAO      ISMR       IOD       AMO       PDO  \\\n",
       "0    0.599257  0.167651  10.24380  0.484010  0.000837  1.084100  0.560382   \n",
       "1    0.663879  0.212788  44.16110  0.603261 -0.317969 -1.465790  1.189540   \n",
       "2   -0.428772  0.336627   4.76807  0.609364  0.423296  0.114019  0.783738   \n",
       "3    0.513283  0.575112 -63.58770  0.219494  0.352545  1.807430  0.560395   \n",
       "4   -0.260801  0.647786  12.57720  0.040233 -0.528239 -0.108867  0.727379   \n",
       "..        ...       ...       ...       ...       ...       ...       ...   \n",
       "865  1.147740  1.296340  23.70850  0.161498 -0.385948  0.108982 -0.079691   \n",
       "866  1.579510  1.572200 -41.18450  0.174294 -0.945931  2.158290 -0.189664   \n",
       "867  0.923487  2.007070 -56.14030  0.277507  0.413170  0.031796 -0.188361   \n",
       "868  0.207229  2.259830 -43.77540  0.492069 -0.579453 -1.432400  0.008520   \n",
       "869  0.408653  2.480140 -40.42980  0.453323 -0.070764 -0.868589  0.237157   \n",
       "\n",
       "          SAM  \n",
       "0   -0.295856  \n",
       "1   -0.032952  \n",
       "2   -0.644708  \n",
       "3   -0.295477  \n",
       "4    0.044719  \n",
       "..        ...  \n",
       "865  0.297551  \n",
       "866  0.441171  \n",
       "867  0.534373  \n",
       "868  0.771095  \n",
       "869  0.618231  \n",
       "\n",
       "[870 rows x 8 columns]"
      ]
     },
     "execution_count": 22,
     "metadata": {},
     "output_type": "execute_result"
    }
   ],
   "source": [
    "data"
   ]
  },
  {
   "cell_type": "code",
   "execution_count": 63,
   "id": "e86ce921-0e63-43f5-814d-903d21c81317",
   "metadata": {
    "id": "e86ce921-0e63-43f5-814d-903d21c81317"
   },
   "outputs": [],
   "source": [
    "from xgboost import XGBRegressor\n",
    "from sklearn.metrics import mean_squared_error,accuracy_score"
   ]
  },
  {
   "cell_type": "code",
   "execution_count": 54,
   "id": "415af69a",
   "metadata": {},
   "outputs": [],
   "source": [
    "x = np.array(data.drop(['ISMR'], axis = 1))\n",
    "y = data.ISMR"
   ]
  },
  {
   "cell_type": "markdown",
   "id": "40b280bb",
   "metadata": {},
   "source": [
    "## XGBoost"
   ]
  },
  {
   "cell_type": "code",
   "execution_count": 85,
   "id": "4022ba29",
   "metadata": {},
   "outputs": [
    {
     "data": {
      "image/png": "[encoded data removed]",
      "text/plain": [
       "<Figure size 432x288 with 1 Axes>"
      ]
     },
     "metadata": {
      "needs_background": "light"
     },
     "output_type": "display_data"
    }
   ],
   "source": [
    "mserror = []\n",
    "model = XGBRegressor()\n",
    "model.fit(x[:-100],y[:-100])\n",
    "y_pred = model.predict(x[-100:])\n",
    "plt.scatter(y_pred,y[-100:])\n",
    "plt.title(\"No Lag\")\n",
    "plt.show()\n",
    "mserror.append(mean_squared_error(y_pred,y[-100:]))"
   ]
  },
  {
   "cell_type": "code",
   "execution_count": 86,
   "id": "d3667be1",
   "metadata": {},
   "outputs": [
    {
     "data": {
      "image/png": "[encoded data removed]",
      "text/plain": [
       "<Figure size 432x288 with 1 Axes>"
      ]
     },
     "metadata": {
      "needs_background": "light"
     },
     "output_type": "display_data"
    },
    {
     "data": {
      "image/png": "[encoded data removed]",
      "text/plain": [
       "<Figure size 432x288 with 1 Axes>"
      ]
     },
     "metadata": {
      "needs_background": "light"
     },
     "output_type": "display_data"
    }
   ],
   "source": [
    "for lag in range(1,3):\n",
    "    model = XGBRegressor()\n",
    "    model.fit(x[:-100-lag],y[lag:-100])\n",
    "    y_pred = model.predict(x[-100-lag:-lag])\n",
    "    plt.scatter(y_pred,y[-100:])\n",
    "    plt.title(str(lag)+\" Lag\")\n",
    "    plt.show()\n",
    "    mserror.append(mean_squared_error(y_pred,y[-100:]))"
   ]
  },
  {
   "cell_type": "code",
   "execution_count": 87,
   "id": "a68c21be",
   "metadata": {},
   "outputs": [
    {
     "name": "stdout",
     "output_type": "stream",
     "text": [
      "Accuracy with  0 lag =  0.1559297335925728\n",
      "Accuracy with  1 lag =  0.1715779464728672\n",
      "Accuracy with  2 lag =  0.163641420343375\n"
     ]
    }
   ],
   "source": [
    "for i in range(3):\n",
    "    print(\"Accuracy with \",i,\"lag = \",mserror[i])"
   ]
  },
  {
   "cell_type": "markdown",
   "id": "b06480f9",
   "metadata": {},
   "source": [
    "## SVM"
   ]
  },
  {
   "cell_type": "code",
   "execution_count": 88,
   "id": "c34b5291",
   "metadata": {},
   "outputs": [],
   "source": [
    "from sklearn.svm import SVR"
   ]
  },
  {
   "cell_type": "code",
   "execution_count": 91,
   "id": "05bac3f1",
   "metadata": {},
   "outputs": [
    {
     "data": {
      "image/png": "[encoded data removed]",
      "text/plain": [
       "<Figure size 432x288 with 1 Axes>"
      ]
     },
     "metadata": {
      "needs_background": "light"
     },
     "output_type": "display_data"
    }
   ],
   "source": [
    "mserror = []\n",
    "model = SVR()\n",
    "model.fit(x[:-100],y[:-100])\n",
    "y_pred = model.predict(x[-100:])\n",
    "plt.scatter(y_pred,y[-100:])\n",
    "plt.title(\"No Lag\")\n",
    "plt.show()\n",
    "mserror.append(mean_squared_error(y_pred,y[-100:]))"
   ]
  },
  {
   "cell_type": "code",
   "execution_count": 92,
   "id": "bc7eae52",
   "metadata": {},
   "outputs": [
    {
     "data": {
      "image/png": "[encoded data removed]",
      "text/plain": [
       "<Figure size 432x288 with 1 Axes>"
      ]
     },
     "metadata": {
      "needs_background": "light"
     },
     "output_type": "display_data"
    },
    {
     "data": {
      "image/png": "[encoded data removed]",
      "text/plain": [
       "<Figure size 432x288 with 1 Axes>"
      ]
     },
     "metadata": {
      "needs_background": "light"
     },
     "output_type": "display_data"
    }
   ],
   "source": [
    "for lag in range(1,3):\n",
    "    model = SVR()\n",
    "    model.fit(x[:-100-lag],y[lag:-100])\n",
    "    y_pred = model.predict(x[-100-lag:-lag])\n",
    "    plt.scatter(y_pred,y[-100:])\n",
    "    plt.title(str(lag)+\" Lag\")\n",
    "    plt.show()\n",
    "    mserror.append(mean_squared_error(y_pred,y[-100:]))"
   ]
  },
  {
   "cell_type": "code",
   "execution_count": 93,
   "id": "acfe05d5",
   "metadata": {},
   "outputs": [
    {
     "name": "stdout",
     "output_type": "stream",
     "text": [
      "Accuracy with  0 lag =  0.16555593232452565\n",
      "Accuracy with  1 lag =  0.16072307089239934\n",
      "Accuracy with  2 lag =  0.1629951282813806\n"
     ]
    }
   ],
   "source": [
    "for i in range(3):\n",
    "    print(\"Accuracy with \",i,\"lag = \",mserror[i])"
   ]
  },
  {
   "cell_type": "markdown",
   "id": "90e56c3e",
   "metadata": {},
   "source": [
    "## SVM with GridSearch and different kernels"
   ]
  },
  {
   "cell_type": "code",
   "execution_count": 101,
   "id": "0cba721d",
   "metadata": {},
   "outputs": [
    {
     "data": {
      "text/plain": [
       "GridSearchCV(estimator=SVR(),\n",
       "             param_grid={'kernel': ('linear', 'poly', 'rbf', 'sigmoid')})"
      ]
     },
     "execution_count": 101,
     "metadata": {},
     "output_type": "execute_result"
    }
   ],
   "source": [
    "from sklearn.model_selection import GridSearchCV\n",
    "\n",
    "param = {'kernel' : ('linear', 'poly', 'rbf', 'sigmoid')}\n",
    "\n",
    "modelsvr = SVR()\n",
    "\n",
    "grids = GridSearchCV(modelsvr,param)\n",
    "\n",
    "grids.fit(x[:-100],y[:-100])"
   ]
  },
  {
   "cell_type": "code",
   "execution_count": 105,
   "id": "c077dc3f",
   "metadata": {},
   "outputs": [
    {
     "data": {
      "text/plain": [
       "{'mean_fit_time': array([2.65654383, 0.14103985, 0.03018699, 0.03717051]),\n",
       " 'std_fit_time': array([0.62284683, 0.02212157, 0.00088548, 0.00072968]),\n",
       " 'mean_score_time': array([0.00694442, 0.00446467, 0.01190076, 0.00832086]),\n",
       " 'std_score_time': array([0.00634688, 0.00064351, 0.00044774, 0.00012322]),\n",
       " 'param_kernel': masked_array(data=['linear', 'poly', 'rbf', 'sigmoid'],\n",
       "              mask=[False, False, False, False],\n",
       "        fill_value='?',\n",
       "             dtype=object),\n",
       " 'params': [{'kernel': 'linear'},\n",
       "  {'kernel': 'poly'},\n",
       "  {'kernel': 'rbf'},\n",
       "  {'kernel': 'sigmoid'}],\n",
       " 'split0_test_score': array([-4.92739072e-01, -7.92164346e-01, -8.41936099e-01, -1.40804872e+04]),\n",
       " 'split1_test_score': array([-7.33576618e-01, -8.14557786e-01, -1.14204103e+00, -3.13994388e+04]),\n",
       " 'split2_test_score': array([-1.75234754e-01, -2.29282813e-01, -2.01364007e-01, -1.31350379e+04]),\n",
       " 'split3_test_score': array([-4.60141437e-01, -1.29934527e-01, -2.47220363e-02, -2.32875602e+04]),\n",
       " 'split4_test_score': array([ 2.84471564e-03, -4.17078276e-02, -1.56063604e-02, -1.02819734e+04]),\n",
       " 'mean_test_score': array([-3.71769433e-01, -4.01529460e-01, -4.45133907e-01, -1.84368995e+04]),\n",
       " 'std_test_score': array([2.57801995e-01, 3.33494328e-01, 4.61258136e-01, 7.81213440e+03]),\n",
       " 'rank_test_score': array([1, 2, 3, 4], dtype=int32)}"
      ]
     },
     "execution_count": 105,
     "metadata": {},
     "output_type": "execute_result"
    }
   ],
   "source": [
    "grids.cv_results_"
   ]
  },
  {
   "cell_type": "code",
   "execution_count": 108,
   "id": "a86375c5",
   "metadata": {},
   "outputs": [
    {
     "data": {
      "image/png": "[encoded data removed]",
      "text/plain": [
       "<Figure size 432x288 with 1 Axes>"
      ]
     },
     "metadata": {
      "needs_background": "light"
     },
     "output_type": "display_data"
    }
   ],
   "source": [
    "mserror = []\n",
    "plt.scatter(grids.predict(x[-100:]),y[-100:])\n",
    "plt.title(\"No Lag\")\n",
    "plt.show()\n",
    "mserror.append(mean_squared_error(grids.predict(x[-100:]),y[-100:]))"
   ]
  },
  {
   "cell_type": "code",
   "execution_count": 110,
   "id": "cdef831a",
   "metadata": {},
   "outputs": [
    {
     "data": {
      "image/png": "[encoded data removed]",
      "text/plain": [
       "<Figure size 432x288 with 1 Axes>"
      ]
     },
     "metadata": {
      "needs_background": "light"
     },
     "output_type": "display_data"
    },
    {
     "data": {
      "image/png": "[encoded data removed]",
      "text/plain": [
       "<Figure size 432x288 with 1 Axes>"
      ]
     },
     "metadata": {
      "needs_background": "light"
     },
     "output_type": "display_data"
    }
   ],
   "source": [
    "scores = []\n",
    "for lag in range(1,3):\n",
    "    param = {'kernel' : ('linear', 'poly', 'rbf', 'sigmoid')}\n",
    "    modelsvr = SVR()\n",
    "    grids = GridSearchCV(modelsvr,param)\n",
    "    grids.fit(x[:-100-lag],y[lag:-100])\n",
    "    y_pred = grids.predict(x[-100-lag:-lag])\n",
    "    plt.scatter(y_pred,y[-100:])\n",
    "    plt.title(str(lag)+\" Lag\")\n",
    "    plt.show()\n",
    "    scores.append(grids.cv_results_)\n",
    "    mserror.append(mean_squared_error(y_pred,y[-100:]))"
   ]
  },
  {
   "cell_type": "markdown",
   "id": "61754b85",
   "metadata": {},
   "source": [
    "## Results SVM with grid search"
   ]
  },
  {
   "cell_type": "code",
   "execution_count": 111,
   "id": "8488b3b0",
   "metadata": {},
   "outputs": [
    {
     "name": "stdout",
     "output_type": "stream",
     "text": [
      "Accuracy with  0 lag =  0.14223290343694162\n",
      "Accuracy with  1 lag =  0.14082949346024873\n",
      "Accuracy with  2 lag =  0.15580444325703607\n"
     ]
    }
   ],
   "source": [
    "for i in range(3):\n",
    "    print(\"Accuracy with \",i,\"lag = \",mserror[i])"
   ]
  },
  {
   "cell_type": "code",
   "execution_count": 112,
   "id": "239529da",
   "metadata": {},
   "outputs": [
    {
     "name": "stdout",
     "output_type": "stream",
     "text": [
      "{'mean_fit_time': array([2.42097387, 0.15857205, 0.03065639, 0.0380116 ]), 'std_fit_time': array([0.18344789, 0.049927  , 0.00125594, 0.00116623]), 'mean_score_time': array([0.00440154, 0.00455256, 0.0119194 , 0.008424  ]), 'std_score_time': array([0.00056865, 0.0002772 , 0.00030992, 0.00023969]), 'param_kernel': masked_array(data=['linear', 'poly', 'rbf', 'sigmoid'],\n",
      "             mask=[False, False, False, False],\n",
      "       fill_value='?',\n",
      "            dtype=object), 'params': [{'kernel': 'linear'}, {'kernel': 'poly'}, {'kernel': 'rbf'}, {'kernel': 'sigmoid'}], 'split0_test_score': array([-5.16099101e-01, -8.03609144e-01, -7.91675235e-01, -1.40922372e+04]), 'split1_test_score': array([-8.07754298e-01, -8.30882098e-01, -1.15053943e+00, -3.17324688e+04]), 'split2_test_score': array([-1.78515290e-01, -2.42292441e-01, -2.81401507e-01, -1.34717586e+04]), 'split3_test_score': array([-4.38291543e-01, -1.12203817e-01, -6.46529990e-02, -2.30526120e+04]), 'split4_test_score': array([-4.81158406e-02, -2.21308807e-02, -2.83181302e-02, -1.02550857e+04]), 'mean_test_score': array([-3.97755214e-01, -4.02223676e-01, -4.63317461e-01, -1.85208325e+04]), 'std_test_score': array([2.66105826e-01, 3.46126679e-01, 4.38484676e-01, 7.85509431e+03]), 'rank_test_score': array([1, 2, 3, 4], dtype=int32)}\n",
      "{'mean_fit_time': array([3.07045822, 0.13367257, 0.03044286, 0.0369544 ]), 'std_fit_time': array([1.03240120e+00, 2.22693037e-02, 8.73010857e-04, 1.39127260e-03]), 'mean_score_time': array([0.00385833, 0.00420132, 0.01180053, 0.00824418]), 'std_score_time': array([0.00020616, 0.00010893, 0.00026463, 0.00012411]), 'param_kernel': masked_array(data=['linear', 'poly', 'rbf', 'sigmoid'],\n",
      "             mask=[False, False, False, False],\n",
      "       fill_value='?',\n",
      "            dtype=object), 'params': [{'kernel': 'linear'}, {'kernel': 'poly'}, {'kernel': 'rbf'}, {'kernel': 'sigmoid'}], 'split0_test_score': array([-4.75530656e-01, -8.06713458e-01, -8.54770438e-01, -1.43403549e+04]), 'split1_test_score': array([-8.79228291e-01, -9.83652200e-01, -1.21246953e+00, -3.20331633e+04]), 'split2_test_score': array([-2.14027536e-01, -2.35173328e-01, -2.41134685e-01, -1.38645500e+04]), 'split3_test_score': array([-5.10374618e-01, -1.50365449e-01, -5.53394398e-02, -2.23235622e+04]), 'split4_test_score': array([-3.56643985e-02, -2.05147488e-02, -5.12141206e-02, -1.07146568e+04]), 'mean_test_score': array([-4.22965100e-01, -4.39283837e-01, -4.82985642e-01, -1.86552574e+04]), 'std_test_score': array([2.87136344e-01, 3.82581736e-01, 4.68651358e-01, 7.70775227e+03]), 'rank_test_score': array([1, 2, 3, 4], dtype=int32)}\n"
     ]
    }
   ],
   "source": [
    "for i in range(2):\n",
    "    print(scores[i])"
   ]
  },
  {
   "cell_type": "code",
   "execution_count": null,
   "id": "1d85a7f1",
   "metadata": {},
   "outputs": [],
   "source": []
  }
 ],
 "metadata": {
  "colab": {
   "name": "MLFA_assignment4.ipynb",
   "provenance": []
  },
  "kernelspec": {
   "display_name": "Python 3 (ipykernel)",
   "language": "python",
   "name": "python3"
  },
  "language_info": {
   "codemirror_mode": {
    "name": "ipython",
    "version": 3
   },
   "file_extension": ".py",
   "mimetype": "text/x-python",
   "name": "python",
   "nbconvert_exporter": "python",
   "pygments_lexer": "ipython3",
   "version": "3.7.11"
  }
 },
 "nbformat": 4,
 "nbformat_minor": 5
}
