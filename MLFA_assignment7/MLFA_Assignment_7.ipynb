{
 "cells": [
  {
   "cell_type": "markdown",
   "id": "c9be8d60",
   "metadata": {
    "colab_type": "text",
    "id": "xpXdowrE9DxW"
   },
   "source": [
    "# ASSIGNMENT 5\n",
    "\n",
    "## Submitted by - \n",
    "    Raghav Aggarwal 20EC10064 (Team Leader)\n",
    "    Darpan Aswal 20EC10026\n",
    "    Rudransh Gupta 20EE30036\n",
    "    Parv Jain 20IE10048\n",
    "    Adarsh Jha 20CH30003\n",
    "    Harsh Gupta 20CH10021\n",
    "## Importing Libraries and Dataset"
   ]
  },
  {
   "cell_type": "code",
   "execution_count": 1,
   "id": "3068ac3d",
   "metadata": {},
   "outputs": [],
   "source": [
    "import numpy as np\n",
    "from numpy import random\n",
    "import pandas as pd\n",
    "import matplotlib.pyplot as plt\n",
    "\n",
    "dataset = pd.read_csv(\"data.csv\")\n",
    "dataset.drop(['slope', 'ca', 'thal'], axis = 1, inplace=True)"
   ]
  },
  {
   "cell_type": "markdown",
   "id": "f79f4781",
   "metadata": {},
   "source": [
    "# Taking Care of Missing Data"
   ]
  },
  {
   "cell_type": "code",
   "execution_count": 70,
   "id": "46f08736",
   "metadata": {},
   "outputs": [],
   "source": [
    "for column in dataset.columns:\n",
    "  dataset = dataset[dataset[column] != '?']"
   ]
  },
  {
   "cell_type": "markdown",
   "id": "6a30fb9f",
   "metadata": {},
   "source": [
    "# Splitting the Dataset into X and y and applying Normalization"
   ]
  },
  {
   "cell_type": "code",
   "execution_count": 125,
   "id": "34175bd4",
   "metadata": {},
   "outputs": [],
   "source": [
    "dataset = dataset.astype('float')\n",
    "y = dataset.iloc[:, -1].values\n",
    "\n",
    "for i in dataset.columns:\n",
    "    dataset[i] = (dataset[i] - dataset[i].min()) / (dataset[i].max() - dataset[i].min())  \n",
    "    \n",
    "X = dataset.iloc[:, :-1].values"
   ]
  },
  {
   "cell_type": "markdown",
   "id": "4e5d34ed",
   "metadata": {
    "colab_type": "text",
    "id": "AyhQaTwP9RzG"
   },
   "source": [
    "## Splitting the dataset into the Training set and Test set"
   ]
  },
  {
   "cell_type": "code",
   "execution_count": 109,
   "id": "c10a2d87",
   "metadata": {},
   "outputs": [],
   "source": [
    "from sklearn.model_selection import train_test_split\n",
    "X_train, X_test, y_train, y_test = train_test_split(X, y, test_size = 0.2, random_state = 1234)"
   ]
  },
  {
   "cell_type": "markdown",
   "id": "7b6546fd",
   "metadata": {},
   "source": [
    "# Linear Regression Model"
   ]
  },
  {
   "cell_type": "code",
   "execution_count": 219,
   "id": "634bb7b2",
   "metadata": {},
   "outputs": [
    {
     "name": "stdout",
     "output_type": "stream",
     "text": [
      "The calculated accuracy of the Linear Regression Model is: 0.7735849056603774\n"
     ]
    }
   ],
   "source": [
    "class LinearRegression:\n",
    "    def __init__(self, learning_rate, iterations):\n",
    "        self.lr = learning_rate\n",
    "        self.iterations = iterations\n",
    "        self.w = None\n",
    "        self.b = None\n",
    "\n",
    "    def fit(self, X, y):\n",
    "        self.w = np.zeros(X.shape[1])\n",
    "        self.b = 0\n",
    "\n",
    "        for _ in range(self.iterations):\n",
    "            y_pred = np.dot(X, self.w) + self.b\n",
    "            dw = (1/X.shape[0])*np.dot(X.T, (y_pred - y))\n",
    "            db = (1/X.shape[0])*np.sum(y_pred - y)\n",
    "\n",
    "            self.w -= self.lr * dw\n",
    "            self.b -= self.lr * db\n",
    "\n",
    "    def predict(self, X):\n",
    "        y_pred = np.dot(X, self.w) + self.b\n",
    "        return ((y_pred > 0.5)*1).astype(float)\n",
    "    \n",
    "regressor = LinearRegression(learning_rate = 0.01, iterations = 1000)\n",
    "regressor.fit(X_train, y_train)\n",
    "y_pred = regressor.predict(X_test)\n",
    "\n",
    "y_pred = y_pred.reshape(y_pred.shape[0], 1)\n",
    "y_test = y_test.reshape(y_pred.shape[0], 1)\n",
    "\n",
    "count = 0\n",
    "for i in range (len(y_test)):\n",
    "    if y_pred[i] == y_test[i]:\n",
    "        count += 1\n",
    "\n",
    "print(f\"The calculated accuracy of the Linear Regression Model is: {count/len(y_pred)}\")"
   ]
  },
  {
   "cell_type": "markdown",
   "id": "d9a70135",
   "metadata": {},
   "source": [
    "# Lasso Regression Model"
   ]
  },
  {
   "cell_type": "code",
   "execution_count": 261,
   "id": "18e699b5",
   "metadata": {},
   "outputs": [
    {
     "name": "stdout",
     "output_type": "stream",
     "text": [
      "The calculated accuracy of the Lasso Regression Model is: 0.6981132075471698\n"
     ]
    }
   ],
   "source": [
    "class Lasso_Regression():\n",
    "    def __init__(self, learning_rate, iterations, lambda_parameter):\n",
    "        self.lr = learning_rate\n",
    "        self.iterations = iterations\n",
    "        self.lambda_parameter = lambda_parameter\n",
    "\n",
    "    def fit(self, X, y):\n",
    "        self.w = np.zeros(X.shape[1])\n",
    "        self.b = 0\n",
    "\n",
    "        for i in range(self.iterations):\n",
    "            self.update_weights()\n",
    "\n",
    "    def update_weights(self):\n",
    "        y_pred = self.predict(X)\n",
    "        dw = np.zeros(X.shape[1])\n",
    "        for i in range(X.shape[1]):\n",
    "            if self.w[i]>0:\n",
    "                dw[i] = (-(2*(X[:,i]).dot(y - y_pred)) + self.lambda_parameter)/X.shape[0]\n",
    "            else :\n",
    "                dw[i] = (-(2*(X[:,i]).dot(y - y_pred)) - self.lambda_parameter)/X.shape[0]\n",
    "\n",
    "\n",
    "        db = - 2 * np.sum(y - y_pred)/X.shape[0]\n",
    "        self.w -= self.lr*dw\n",
    "        self.b -= self.lr*db\n",
    "\n",
    "    def predict(self,X):\n",
    "        y_pred = np.dot(X, self.w) + self.b\n",
    "        return ((y_pred > 0.5)*1).astype(float)\n",
    "    \n",
    "regressor = Lasso_Regression(learning_rate = 0.01, iterations = 1000, lambda_parameter = 20)\n",
    "regressor.fit(X_train, y_train)\n",
    "y_pred = regressor.predict(X_test)\n",
    "        \n",
    "y_pred = y_pred.reshape(y_pred.shape[0], 1)\n",
    "y_test = y_test.reshape(y_pred.shape[0], 1)\n",
    "\n",
    "count = 0\n",
    "for i in range (len(y_test)):\n",
    "    if y_pred[i] == y_test[i]:\n",
    "        count += 1\n",
    "\n",
    "print(f\"The calculated accuracy of the Lasso Regression Model is: {count/len(y_pred)}\")"
   ]
  },
  {
   "cell_type": "markdown",
   "id": "daa80dc7",
   "metadata": {},
   "source": [
    "# Ridge Regression Model"
   ]
  },
  {
   "cell_type": "code",
   "execution_count": 259,
   "id": "14eefb39",
   "metadata": {},
   "outputs": [
    {
     "name": "stdout",
     "output_type": "stream",
     "text": [
      "The calculated accuracy of the Ridge Regression Model is: 0.7924528301886793\n"
     ]
    }
   ],
   "source": [
    "class Ridge_Regression():\n",
    "    def __init__(self, learning_rate, iterations, lambda_parameter):\n",
    "        self.lr = learning_rate\n",
    "        self.iterations = iterations\n",
    "        self.lambda_parameter = lambda_parameter\n",
    "\n",
    "    def fit(self, X, y):\n",
    "        self.w = np.zeros(X.shape[1])\n",
    "        self.b = 0\n",
    "\n",
    "        for i in range(self.iterations):\n",
    "            self.update_weights()\n",
    "\n",
    "    def update_weights(self):\n",
    "        y_pred = self.predict(X)\n",
    "        dw = np.zeros(X.shape[1])\n",
    "        \n",
    "        dw = (-(2*(X.T).dot(y - y_pred)) + (2*self.lambda_parameter*self.w))/X.shape[0]     \n",
    "        db = - 2 * np.sum(y - y_pred)/X.shape[0] \n",
    "\n",
    "        self.w -= self.lr*dw\n",
    "        self.b -= self.lr*db\n",
    "\n",
    "    def predict(self,X):\n",
    "        y_pred = np.dot(X, self.w) + self.b\n",
    "        return ((y_pred > 0.5)*1).astype(float)\n",
    "    \n",
    "regressor = Lasso_Regression(learning_rate = 0.01, iterations = 1000, lambda_parameter = 14)\n",
    "regressor.fit(X_train, y_train)\n",
    "y_pred = regressor.predict(X_test)\n",
    "        \n",
    "y_pred = y_pred.reshape(y_pred.shape[0], 1)\n",
    "y_test = y_test.reshape(y_pred.shape[0], 1)\n",
    "\n",
    "count = 0\n",
    "for i in range (len(y_test)):\n",
    "    if y_pred[i] == y_test[i]:\n",
    "        count += 1\n",
    "\n",
    "print(f\"The calculated accuracy of the Ridge Regression Model is: {count/len(y_pred)}\")"
   ]
  }
 ],
 "metadata": {
  "kernelspec": {
   "display_name": "Python 3 (ipykernel)",
   "language": "python",
   "name": "python3"
  },
  "language_info": {
   "codemirror_mode": {
    "name": "ipython",
    "version": 3
   },
   "file_extension": ".py",
   "mimetype": "text/x-python",
   "name": "python",
   "nbconvert_exporter": "python",
   "pygments_lexer": "ipython3",
   "version": "3.7.11"
  }
 },
 "nbformat": 4,
 "nbformat_minor": 5
}
