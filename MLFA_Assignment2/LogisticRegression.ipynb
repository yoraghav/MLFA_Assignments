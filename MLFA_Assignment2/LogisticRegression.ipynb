{
 "cells": [
  {
   "cell_type": "code",
   "execution_count": 1,
   "id": "944ed989",
   "metadata": {},
   "outputs": [],
   "source": [
    "import numpy as np\n",
    "from numpy.random import rand\n",
    "import pandas as pd\n",
    "from sklearn import preprocessing\n",
    "from sklearn.model_selection import train_test_split"
   ]
  },
  {
   "cell_type": "code",
   "execution_count": 2,
   "id": "6bd406ab",
   "metadata": {
    "scrolled": true
   },
   "outputs": [],
   "source": [
    "df_unscaled = pd.read_csv('sobar-72.csv')\n",
    "names = df_unscaled.columns\n",
    "d = preprocessing.normalize(df_unscaled, axis=0)\n",
    "df = pd.DataFrame(d, columns = names)\n",
    "df = df.sample(frac=1).reset_index(drop=True)"
   ]
  },
  {
   "cell_type": "code",
   "execution_count": 3,
   "id": "9802217f",
   "metadata": {},
   "outputs": [],
   "source": [
    "def accuracy(y_predictions,y):\n",
    "    m = len(y_predictions)\n",
    "    deviation = 0\n",
    "    for i in range(m):\n",
    "        deviation += (y_predictions[i]-y[i])**2\n",
    "    return ((m-deviation)/m)*100"
   ]
  },
  {
   "cell_type": "code",
   "execution_count": 4,
   "id": "8dd57345",
   "metadata": {},
   "outputs": [],
   "source": [
    "y = df.ca_cervix\n",
    "y = np.array(y)\n",
    "df_features = ['behavior_sexualRisk', 'behavior_eating', 'behavior_personalHygine',\n",
    "       'intention_aggregation', 'intention_commitment', 'attitude_consistency',\n",
    "       'attitude_spontaneity', 'norm_significantPerson', 'norm_fulfillment',\n",
    "       'perception_vulnerability', 'perception_severity',\n",
    "       'motivation_strength', 'motivation_willingness',\n",
    "       'socialSupport_emotionality', 'socialSupport_appreciation',\n",
    "       'socialSupport_instrumental', 'empowerment_knowledge',\n",
    "       'empowerment_abilities', 'empowerment_desires']\n",
    "\n",
    "X = df[df_features]\n",
    "X = np.array(X)"
   ]
  },
  {
   "cell_type": "code",
   "execution_count": 5,
   "id": "4cb7217f",
   "metadata": {
    "scrolled": false
   },
   "outputs": [],
   "source": [
    "X_train, X_test, y_train, y_test = train_test_split(X, y, test_size=0.1, random_state=0)\n",
    "X_train = X_train.T\n",
    "y_train = y_train.reshape(1, X_train.shape[1]) \n",
    "X_test = X_test.T\n",
    "y_test = y_test.reshape(1, X_test.shape[1])"
   ]
  },
  {
   "cell_type": "code",
   "execution_count": 6,
   "id": "e64e5057",
   "metadata": {},
   "outputs": [],
   "source": [
    "def sigmoid(z):\n",
    "    return 1/(1+np.exp(-z))"
   ]
  },
  {
   "cell_type": "code",
   "execution_count": 7,
   "id": "5eabf14f",
   "metadata": {},
   "outputs": [],
   "source": [
    "#def logistic_regression(X, y, learning_rate, iterations):\n",
    " #   n = X_train.shape[0]\n",
    "  #  m = X_train.shape[1]\n",
    "   # weights = np.zeros((n,1))\n",
    "    \n",
    "    #for i in range(iterations):\n",
    "     #   z = np.dot(weights.T, X)\n",
    "      #  cost = -(1/m)*(y*np.log(sigmoid(z)) + (1-y)*np.log((1-sigmoid(z))))\n",
    "       # dw  = (1/m)*(np.dot(sigmoid(z) - y, X.T))\n",
    "    \n",
    "        #weights -= learning_rate*dw.T"
   ]
  },
  {
   "cell_type": "code",
   "execution_count": 8,
   "id": "6f554590",
   "metadata": {},
   "outputs": [],
   "source": [
    "#for j in range(len(y_test)):\n",
    " #   if z[0,j] < 0.5:\n",
    "  #      y_predictions[j] = 0\n",
    "   # else:\n",
    "    #    y_predictions[j] = 1"
   ]
  },
  {
   "cell_type": "code",
   "execution_count": 9,
   "id": "4e7521d6",
   "metadata": {},
   "outputs": [
    {
     "data": {
      "text/plain": [
       "array([[0., 0., 0., 0., 0., 0., 0., 0., 0., 0., 0., 0., 0., 0., 0., 0.,\n",
       "        0., 0., 0., 0., 0., 0., 0., 0., 0., 0., 0., 0., 0., 0., 0., 0.,\n",
       "        0., 0., 0., 0., 0., 0., 0., 0., 0., 0., 0., 0., 0., 0., 0., 0.,\n",
       "        0., 0., 0., 0., 0., 0., 0., 0., 0., 0., 0., 0., 0., 0., 0., 0.]])"
      ]
     },
     "execution_count": 9,
     "metadata": {},
     "output_type": "execute_result"
    }
   ],
   "source": [
    "learning_rate = 0.001\n",
    "iterations = 1000\n",
    "\n",
    "n = X_train.shape[0]\n",
    "m = X_train.shape[1]\n",
    "weights = np.zeros((n,1))\n",
    "z = np.dot(weights.T, X_train)\n",
    "z"
   ]
  },
  {
   "cell_type": "code",
   "execution_count": 10,
   "id": "b7e5199e",
   "metadata": {
    "scrolled": true
   },
   "outputs": [],
   "source": [
    "for i in range(iterations):\n",
    "    z = np.dot(weights.T, X_train)\n",
    "    cost = -(1/m)*(y_train*np.log(sigmoid(z)) + (1-y_train)*np.log((1-sigmoid(z))))\n",
    "    dw  = (1/m)*(np.dot(sigmoid(z) - y_train, X_train.T))\n",
    "\n",
    "    weights -= learning_rate*dw.T\n",
    "z = z.T\n",
    "y_predictions = np.zeros(len(z))"
   ]
  },
  {
   "cell_type": "code",
   "execution_count": 11,
   "id": "c7c5ec1a",
   "metadata": {},
   "outputs": [
    {
     "name": "stdout",
     "output_type": "stream",
     "text": [
      "[-0.0969074]\n",
      "[-0.1314638]\n",
      "[-0.10948799]\n",
      "[-0.08042044]\n",
      "[-0.14216772]\n",
      "[-0.07235145]\n",
      "[-0.12694685]\n",
      "[-0.10788956]\n",
      "[-0.12195431]\n",
      "[-0.09944422]\n",
      "[-0.10213772]\n",
      "[-0.08637157]\n",
      "[-0.1226332]\n",
      "[-0.07075044]\n",
      "[-0.10247667]\n",
      "[-0.11120757]\n",
      "[-0.11262358]\n",
      "[-0.10857855]\n",
      "[-0.13937213]\n",
      "[-0.1039458]\n",
      "[-0.08911777]\n",
      "[-0.10108477]\n",
      "[-0.10444066]\n",
      "[-0.10153344]\n",
      "[-0.07211978]\n",
      "[-0.12555944]\n",
      "[-0.10959344]\n",
      "[-0.0812306]\n",
      "[-0.10521324]\n",
      "[-0.09205144]\n",
      "[-0.12799559]\n",
      "[-0.08206772]\n",
      "[-0.1373827]\n",
      "[-0.08892622]\n",
      "[-0.08503581]\n",
      "[-0.08372708]\n",
      "[-0.09464261]\n",
      "[-0.10780067]\n",
      "[-0.12816103]\n",
      "[-0.1119672]\n",
      "[-0.07618662]\n",
      "[-0.09970979]\n",
      "[-0.10103135]\n",
      "[-0.10850088]\n",
      "[-0.12116141]\n",
      "[-0.1017182]\n",
      "[-0.1100197]\n",
      "[-0.10457859]\n",
      "[-0.06596127]\n",
      "[-0.11256626]\n",
      "[-0.11154899]\n",
      "[-0.07914124]\n",
      "[-0.08572951]\n",
      "[-0.07223862]\n",
      "[-0.14004877]\n",
      "[-0.07468536]\n",
      "[-0.08203722]\n",
      "[-0.12669618]\n",
      "[-0.10677781]\n",
      "[-0.09184371]\n",
      "[-0.08042568]\n",
      "[-0.0953443]\n",
      "[-0.07148128]\n",
      "[-0.12392687]\n"
     ]
    }
   ],
   "source": [
    "for j in range(len(z)):\n",
    "    print(z[j])\n",
    "    if z[0] > -0.5:\n",
    "        y_predictions[j] = 0\n",
    "    else:\n",
    "        y_predictions[j] = 1"
   ]
  },
  {
   "cell_type": "code",
   "execution_count": 12,
   "id": "7556c34d",
   "metadata": {},
   "outputs": [
    {
     "name": "stdout",
     "output_type": "stream",
     "text": [
      "Accuracy percentage: \n"
     ]
    },
    {
     "data": {
      "text/plain": [
       "98.66071428571429"
      ]
     },
     "execution_count": 12,
     "metadata": {},
     "output_type": "execute_result"
    }
   ],
   "source": [
    "print(\"Accuracy percentage: \")\n",
    "accuracy(y_predictions.T, y_train.T).mean()"
   ]
  },
  {
   "cell_type": "code",
   "execution_count": null,
   "id": "314fd641",
   "metadata": {},
   "outputs": [],
   "source": []
  }
 ],
 "metadata": {
  "kernelspec": {
   "display_name": "Python 3 (ipykernel)",
   "language": "python",
   "name": "python3"
  },
  "language_info": {
   "codemirror_mode": {
    "name": "ipython",
    "version": 3
   },
   "file_extension": ".py",
   "mimetype": "text/x-python",
   "name": "python",
   "nbconvert_exporter": "python",
   "pygments_lexer": "ipython3",
   "version": "3.7.11"
  }
 },
 "nbformat": 4,
 "nbformat_minor": 5
}
