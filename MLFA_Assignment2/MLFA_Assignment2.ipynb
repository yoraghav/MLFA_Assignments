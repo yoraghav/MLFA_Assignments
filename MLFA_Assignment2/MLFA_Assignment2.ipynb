{
 "cells": [
  {
   "cell_type": "markdown",
   "id": "d82ef2ec",
   "metadata": {},
   "source": [
    "# ASSIGNMENT 2\n",
    "\n",
    "## Submitted by - \n",
    "    Raghav Aggarwal 20EC10064 (Team Leader)\n",
    "    Darpan Aswal 20EC10026\n",
    "    Rudransh Gupta 20EE30036\n",
    "    Parv Jain 20IE10048\n",
    "    Adarsh Jha 20CH30003\n",
    "    Harsh Gupta 20CH10021\n",
    "## Importing Libraries"
   ]
  },
  {
   "cell_type": "code",
   "execution_count": 1,
   "id": "afab7d7e",
   "metadata": {},
   "outputs": [],
   "source": [
    "import numpy as np\n",
    "import matplotlib.pyplot as plt\n",
    "import pandas as pd\n",
    "\n",
    "with open('Results.txt', 'w') as f:\n",
    "        f.writelines(\"ASSIGNMENT 2 \\n\\nSubmitted by :- \\n Raghav Aggarwal 20EC10064 (Team Leader)\\n Rudransh Gupta 20EE30036\\n Parv Jain 20IE10048\\n Adarsh Jha 20CH30003\\n Darpan Aswal 20EC10026\\n Harsh Gupta 20CH10021\")\n",
    "        f.writelines(\"\\n\\nNote : The dataset gets shuffled on each run, hence the accuracy might change with each run.\\n\\n\")\n",
    "        f.writelines(\"Results : \\n\\n\")"
   ]
  },
  {
   "cell_type": "markdown",
   "id": "4851f2a5",
   "metadata": {},
   "source": [
    "## Reading Data and shuffling it "
   ]
  },
  {
   "cell_type": "code",
   "execution_count": 2,
   "id": "a2b4e4e3",
   "metadata": {},
   "outputs": [],
   "source": [
    "data = pd.read_csv(\"sobar-72.csv\")"
   ]
  },
  {
   "cell_type": "markdown",
   "id": "5df1a4ff",
   "metadata": {},
   "source": []
  },
  {
   "cell_type": "code",
   "execution_count": 3,
   "id": "47345f4e",
   "metadata": {},
   "outputs": [],
   "source": [
    "data = data.sample(frac=1).reset_index(drop=True)"
   ]
  },
  {
   "cell_type": "markdown",
   "id": "e838cb92",
   "metadata": {},
   "source": [
    "## Normalising Dataset"
   ]
  },
  {
   "cell_type": "code",
   "execution_count": 4,
   "id": "c86407fd",
   "metadata": {},
   "outputs": [],
   "source": [
    "for column in data.columns:\n",
    "    if(column!=\"ca_cervix\"):\n",
    "        data[column] = (data[column]-data[column].mean()) / data[column].std()    "
   ]
  },
  {
   "cell_type": "markdown",
   "id": "7713881b",
   "metadata": {},
   "source": [
    "## Splitting the Data into training and testing datasets"
   ]
  },
  {
   "cell_type": "code",
   "execution_count": 5,
   "id": "6f018c1f",
   "metadata": {},
   "outputs": [],
   "source": [
    "train = data[:-8]\n",
    "test = data[-8:]"
   ]
  },
  {
   "cell_type": "code",
   "execution_count": 6,
   "id": "74a9a314",
   "metadata": {},
   "outputs": [],
   "source": [
    "train_y = np.array(train[\"ca_cervix\"])\n",
    "train_y = train_y.reshape(train_y.shape[0],1)\n",
    "train_x = np.array(train.loc[:, train.columns != \"ca_cervix\"])"
   ]
  },
  {
   "cell_type": "code",
   "execution_count": 7,
   "id": "4578fe1a",
   "metadata": {},
   "outputs": [],
   "source": [
    "test_y = np.array(test[\"ca_cervix\"])\n",
    "test_y = test_y.reshape(test_y.shape[0],1)\n",
    "test_x = np.array(test.loc[:, test.columns != \"ca_cervix\"])"
   ]
  },
  {
   "cell_type": "code",
   "execution_count": 8,
   "id": "9bbbd035",
   "metadata": {},
   "outputs": [],
   "source": [
    "pred_y = np.arange(len(test_y))"
   ]
  },
  {
   "cell_type": "markdown",
   "id": "7ea280f3",
   "metadata": {},
   "source": [
    "## Defining the necessary functions"
   ]
  },
  {
   "cell_type": "code",
   "execution_count": 9,
   "id": "553828d1",
   "metadata": {},
   "outputs": [],
   "source": [
    "def accuracy(X,Y):\n",
    "    return (np.sum((X-Y)==0)/len(X))*100"
   ]
  },
  {
   "cell_type": "code",
   "execution_count": 10,
   "id": "02dcdd96",
   "metadata": {},
   "outputs": [],
   "source": [
    "def sigmoid(z):\n",
    "    return 1/(1+np.exp(-z))"
   ]
  },
  {
   "cell_type": "markdown",
   "id": "a8d00b93",
   "metadata": {},
   "source": [
    "## Training and predicting using model1 (Designed from scratch)"
   ]
  },
  {
   "cell_type": "code",
   "execution_count": 11,
   "id": "d6c3dcfc",
   "metadata": {},
   "outputs": [],
   "source": [
    "learning_rate = 0.001\n",
    "iterations = 1000\n",
    "\n",
    "n = train_x.shape[0]\n",
    "m = train_x.shape[1]\n",
    "weights = (np.random.rand(m,1)-0.5)*0.2"
   ]
  },
  {
   "cell_type": "code",
   "execution_count": 12,
   "id": "8a37abb1",
   "metadata": {},
   "outputs": [],
   "source": [
    "costlist = []\n",
    "for i in range(iterations):\n",
    "    z = sigmoid(np.dot(train_x,weights))\n",
    "    cost = (-(train_y*np.log(z)) - (1-train_y)*np.log(1-z)).sum()/n\n",
    "    dw = (np.dot(train_x.T,z - train_y)/n)*learning_rate\n",
    "    weights -= dw\n",
    "    costlist.append(cost)\n",
    "\n",
    "train_pred = np.round(sigmoid(np.dot(train_x,weights)))"
   ]
  },
  {
   "cell_type": "code",
   "execution_count": 13,
   "id": "74efd90b",
   "metadata": {},
   "outputs": [
    {
     "data": {
      "image/png": "[encoded data removed]",
      "text/plain": [
       "<Figure size 432x288 with 1 Axes>"
      ]
     },
     "metadata": {
      "needs_background": "light"
     },
     "output_type": "display_data"
    }
   ],
   "source": [
    "plt.plot(costlist)\n",
    "plt.show()"
   ]
  },
  {
   "cell_type": "code",
   "execution_count": 14,
   "id": "bb8cb797",
   "metadata": {},
   "outputs": [
    {
     "name": "stdout",
     "output_type": "stream",
     "text": [
      "Accuracy in training data using self made model -  82.8125 %\n",
      "\n",
      "Accuracy in test data using self made model -  75.0 %\n",
      "\n"
     ]
    }
   ],
   "source": [
    "print(\"Accuracy in training data using self made model - \",accuracy(train_y,train_pred),\"%\\n\")\n",
    "print(\"Accuracy in test data using self made model - \",accuracy(test_y,np.round(sigmoid(np.dot(test_x,weights)))),\"%\\n\")"
   ]
  },
  {
   "cell_type": "markdown",
   "id": "1a12f6bc",
   "metadata": {},
   "source": [
    "## Training and predicting using model2 (Scikit logistic regression model)"
   ]
  },
  {
   "cell_type": "code",
   "execution_count": 15,
   "id": "356d382a",
   "metadata": {},
   "outputs": [],
   "source": [
    "from sklearn.linear_model import LogisticRegression\n",
    "from sklearn.model_selection import train_test_split\n",
    "X_train, X_test, y_train, y_test = train_test_split(data.loc[:, data.columns != \"ca_cervix\"], data[\"ca_cervix\"], test_size=0.1, random_state=0)\n",
    "model2 = LogisticRegression(max_iter=iterations).fit(X_train,y_train)\n"
   ]
  },
  {
   "cell_type": "code",
   "execution_count": 16,
   "id": "d31bb0bf",
   "metadata": {
    "scrolled": true
   },
   "outputs": [
    {
     "name": "stdout",
     "output_type": "stream",
     "text": [
      "Accuracy in training data using scikit logistic regression made model -  100.0 %\n",
      "\n",
      "Accuracy in test data using scikit logistic regression model -  87.5 %\n",
      "\n"
     ]
    }
   ],
   "source": [
    "print(\"Accuracy in training data using scikit logistic regression made model - \",accuracy(model2.predict(X_train),y_train),\"%\\n\")\n",
    "print(\"Accuracy in test data using scikit logistic regression model - \",accuracy(model2.predict(X_test),y_test),\"%\\n\")"
   ]
  },
  {
   "cell_type": "code",
   "execution_count": 17,
   "id": "9c1ae9bf",
   "metadata": {},
   "outputs": [],
   "source": [
    "\n",
    "with open('Results.txt', 'a') as f:\n",
    "        f.writelines(\"Accuracy in training data using self made model - \"+str(accuracy(train_y,train_pred))+\"%\\n\")\n",
    "        f.writelines(\"Accuracy in test data using self made model - \"+str(accuracy(test_y,np.round(sigmoid(np.dot(test_x,weights)))))+\"%\\n\")\n",
    "        f.writelines(\"Accuracy in training data using scikit logistic regression made model - \"+str(accuracy(model2.predict(X_train),y_train))+\"%\\n\")\n",
    "        f.writelines(\"Accuracy in test data using scikit logistic regression model - \"+str(accuracy(model2.predict(X_test),y_test))+\"%\\n\")"
   ]
  }
 ],
 "metadata": {
  "kernelspec": {
   "display_name": "Python 3 (ipykernel)",
   "language": "python",
   "name": "python3"
  },
  "language_info": {
   "codemirror_mode": {
    "name": "ipython",
    "version": 3
   },
   "file_extension": ".py",
   "mimetype": "text/x-python",
   "name": "python",
   "nbconvert_exporter": "python",
   "pygments_lexer": "ipython3",
   "version": "3.7.11"
  }
 },
 "nbformat": 4,
 "nbformat_minor": 5
}
